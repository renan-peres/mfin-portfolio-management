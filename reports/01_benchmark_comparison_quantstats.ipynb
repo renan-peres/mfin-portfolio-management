{
 "cells": [
  {
   "cell_type": "markdown",
   "id": "87d75d93",
   "metadata": {},
   "source": [
    "# Portfolio Performance vs. Benchmark"
   ]
  },
  {
   "cell_type": "markdown",
   "id": "03c32a8d",
   "metadata": {},
   "source": [
    "### Step 1: Import Libraries"
   ]
  },
  {
   "cell_type": "code",
   "execution_count": 1,
   "id": "af63bf54",
   "metadata": {
    "execution": {
     "iopub.execute_input": "2025-05-19T17:52:50.512616Z",
     "iopub.status.busy": "2025-05-19T17:52:50.512224Z",
     "iopub.status.idle": "2025-05-19T17:52:51.632881Z",
     "shell.execute_reply": "2025-05-19T17:52:51.632330Z"
    }
   },
   "outputs": [],
   "source": [
    "# Data manipulation libraries\n",
    "import pandas as pd\n",
    "import numpy as np\n",
    "from scipy.optimize import minimize\n",
    "from datetime import datetime, timedelta\n",
    "from pandas.tseries.offsets import BDay\n",
    "\n",
    "# Visualization libraries\n",
    "import matplotlib.pyplot as plt\n",
    "import plotly\n",
    "import plotly.express as px\n",
    "import seaborn as sns\n",
    "import plotly.graph_objects as go\n",
    "import plotly.io as pio\n",
    "from IPython.display import Image, display\n",
    "\n",
    "# System libraries\n",
    "import os\n",
    "import sys\n",
    "import logging\n",
    "import warnings\n",
    "\n",
    "warnings.filterwarnings(\"ignore\", category=UserWarning)  # Font warnings\n",
    "warnings.filterwarnings(\"ignore\", category=FutureWarning, message=\".*inplace.*\")  # Pandas warnings\n",
    "logging.getLogger('matplotlib.font_manager').disabled = True"
   ]
  },
  {
   "cell_type": "code",
   "execution_count": 2,
   "id": "99e4f182",
   "metadata": {
    "execution": {
     "iopub.execute_input": "2025-05-19T17:52:51.634817Z",
     "iopub.status.busy": "2025-05-19T17:52:51.634578Z",
     "iopub.status.idle": "2025-05-19T17:52:51.899428Z",
     "shell.execute_reply": "2025-05-19T17:52:51.898931Z"
    }
   },
   "outputs": [
    {
     "name": "stdout",
     "output_type": "stream",
     "text": [
      "============================================================\n",
      "               QuantStats Compatibility Tool                \n",
      "============================================================\n",
      "\n",
      "Part 1: Directly patching QuantStats package files\n",
      "------------------------------------------------------------\n",
      "Found QuantStats utils file at: /opt/hostedtoolcache/Python/3.12.3/x64/lib/python3.12/site-packages/quantstats/__init__.py\n",
      "Creating backup at: /opt/hostedtoolcache/Python/3.12.3/x64/lib/python3.12/site-packages/quantstats/__init__.py.bak\n",
      "Successfully fixed indentation in QuantStats __init__.py file\n",
      "✓ QuantStats utils file patched successfully\n",
      "\n",
      "Part 2: Fixing resampling issues\n",
      "------------------------------------------------------------\n",
      "Found 1 potential QuantStats installation(s)\n",
      "Checking /opt/hostedtoolcache/Python/3.12.3/x64/lib/python3.12/site-packages/quantstats/_plotting/core.py\n",
      "✓ Found 'plot_timeseries' function in /opt/hostedtoolcache/Python/3.12.3/x64/lib/python3.12/site-packages/quantstats/_plotting/core.py\n",
      "✓ No 'sum(axis=0)' calls found - may already be fixed\n",
      "Examining /opt/hostedtoolcache/Python/3.12.3/x64/lib/python3.12/site-packages/quantstats/_plotting/core.py...\n",
      "✓ Found 'plot_timeseries' function in /opt/hostedtoolcache/Python/3.12.3/x64/lib/python3.12/site-packages/quantstats/_plotting/core.py\n",
      "✓ No 'sum(axis=0)' calls found - may already be fixed\n",
      "No applicable fixes found for /opt/hostedtoolcache/Python/3.12.3/x64/lib/python3.12/site-packages/quantstats/_plotting/core.py\n",
      "⚠️ Resampling fix not applied or not needed\n",
      "\n",
      "Part 3: Importing and patching QuantStats\n",
      "------------------------------------------------------------\n",
      "✓ Successfully imported quantstats\n",
      "Successfully patched QuantStats HTML report functionality\n",
      "✓ HTML report functionality enhanced with download button\n"
     ]
    }
   ],
   "source": [
    "# UDFs\n",
    "current_dir = os.path.abspath(os.path.join(os.getcwd(), '..', 'py')) \n",
    "sys.path.append(current_dir)\n",
    "from quantstats_fix import *\n",
    "from utils import load_and_filter_data, export_to_excel\n",
    "qs.extend_pandas()"
   ]
  },
  {
   "cell_type": "markdown",
   "id": "32933b31",
   "metadata": {},
   "source": [
    "### Step 2: Define Parameters "
   ]
  },
  {
   "cell_type": "markdown",
   "id": "534662b1",
   "metadata": {},
   "source": [
    "#### Dates"
   ]
  },
  {
   "cell_type": "code",
   "execution_count": 3,
   "id": "6157c2ed",
   "metadata": {
    "execution": {
     "iopub.execute_input": "2025-05-19T17:52:51.901412Z",
     "iopub.status.busy": "2025-05-19T17:52:51.901102Z",
     "iopub.status.idle": "2025-05-19T17:52:51.905433Z",
     "shell.execute_reply": "2025-05-19T17:52:51.904976Z"
    }
   },
   "outputs": [
    {
     "name": "stdout",
     "output_type": "stream",
     "text": [
      "Date Range: 2020-05-17 to 2025-05-16\n",
      "Time span: 1825 days (5.00 years)\n"
     ]
    }
   ],
   "source": [
    "# Define the date range\n",
    "end_date = (datetime.today() - BDay(1)).to_pydatetime()  # Subtract 1 business day\n",
    "# end_date = pd.to_datetime('2025-04-26')  # Report date\n",
    "start_date = end_date - timedelta(days=5*365)\n",
    "\n",
    "# Convert datetime objects to Unix timestamps (seconds since Jan 1, 1970)\n",
    "start_timestamp = int(start_date.timestamp())\n",
    "end_timestamp = int(end_date.timestamp())\n",
    "\n",
    "# Print the date range\n",
    "days_difference = (end_date - start_date).days\n",
    "print(f\"Date Range: {start_date.strftime('%Y-%m-%d')} to {end_date.strftime('%Y-%m-%d')}\")\n",
    "print(f\"Time span: {days_difference} days ({days_difference/365:.2f} years)\")"
   ]
  },
  {
   "cell_type": "markdown",
   "id": "d116c468",
   "metadata": {},
   "source": [
    "#### Report File"
   ]
  },
  {
   "cell_type": "code",
   "execution_count": 4,
   "id": "76222543",
   "metadata": {
    "execution": {
     "iopub.execute_input": "2025-05-19T17:52:51.907132Z",
     "iopub.status.busy": "2025-05-19T17:52:51.906808Z",
     "iopub.status.idle": "2025-05-19T17:52:51.995945Z",
     "shell.execute_reply": "2025-05-19T17:52:51.995373Z"
    }
   },
   "outputs": [
    {
     "name": "stdout",
     "output_type": "stream",
     "text": [
      "ADME\n"
     ]
    }
   ],
   "source": [
    "output_file = f'portfolio-{datetime.date(end_date)}.xlsx'\n",
    "\n",
    "# benchmark = 'ADME'\n",
    "benchmark = pd.read_excel(output_file, sheet_name=\"benchmark\")['Benchmark'].values[0]\n",
    "print(benchmark)"
   ]
  },
  {
   "cell_type": "markdown",
   "id": "45c2abd8",
   "metadata": {},
   "source": [
    "#### Risk-free rate (T-bill, %)"
   ]
  },
  {
   "cell_type": "code",
   "execution_count": 5,
   "id": "5349aec6",
   "metadata": {
    "execution": {
     "iopub.execute_input": "2025-05-19T17:52:51.997628Z",
     "iopub.status.busy": "2025-05-19T17:52:51.997277Z",
     "iopub.status.idle": "2025-05-19T17:52:52.103230Z",
     "shell.execute_reply": "2025-05-19T17:52:52.102675Z"
    }
   },
   "outputs": [
    {
     "name": "stdout",
     "output_type": "stream",
     "text": [
      "Risk-Free Rate: 0.0424 -- 13 WEEK TREASURY BILL (^IRX)\n"
     ]
    }
   ],
   "source": [
    "# Load and process data\n",
    "risk_free_df = pd.read_excel(output_file, sheet_name=\"daily_quotes\", index_col=0)['^IRX']\n",
    "# risk_free_rate  = 0.0433                              # 3‑month T‑Bill\n",
    "risk_free_rate = risk_free_df.iloc[-1] / 100 \n",
    "\n",
    "# Display result\n",
    "print(\"Risk-Free Rate:\", risk_free_rate, \"-- 13 WEEK TREASURY BILL (^IRX)\")"
   ]
  },
  {
   "cell_type": "markdown",
   "id": "49293477",
   "metadata": {},
   "source": [
    "### Step 3: Read Portfolio Data (Excel)"
   ]
  },
  {
   "cell_type": "code",
   "execution_count": 6,
   "id": "c7f5a054",
   "metadata": {
    "execution": {
     "iopub.execute_input": "2025-05-19T17:52:52.104823Z",
     "iopub.status.busy": "2025-05-19T17:52:52.104653Z",
     "iopub.status.idle": "2025-05-19T17:52:52.139809Z",
     "shell.execute_reply": "2025-05-19T17:52:52.139371Z"
    }
   },
   "outputs": [
    {
     "name": "stdout",
     "output_type": "stream",
     "text": [
      "['GE', 'PGR', 'TJX', 'LIN', 'ADP']\n"
     ]
    },
    {
     "data": {
      "text/html": [
       "<div>\n",
       "<style scoped>\n",
       "    .dataframe tbody tr th:only-of-type {\n",
       "        vertical-align: middle;\n",
       "    }\n",
       "\n",
       "    .dataframe tbody tr th {\n",
       "        vertical-align: top;\n",
       "    }\n",
       "\n",
       "    .dataframe thead th {\n",
       "        text-align: right;\n",
       "    }\n",
       "</style>\n",
       "<table border=\"1\" class=\"dataframe\">\n",
       "  <thead>\n",
       "    <tr style=\"text-align: right;\">\n",
       "      <th></th>\n",
       "      <th>Ticker</th>\n",
       "      <th>Date</th>\n",
       "      <th>Name</th>\n",
       "      <th>Sector</th>\n",
       "      <th>Industry</th>\n",
       "      <th>Country</th>\n",
       "      <th>Website</th>\n",
       "      <th>Market Cap</th>\n",
       "      <th>Enterprise Value</th>\n",
       "      <th>Float Shares</th>\n",
       "      <th>...</th>\n",
       "      <th>52W High</th>\n",
       "      <th>52W Low</th>\n",
       "      <th>50 Day Avg</th>\n",
       "      <th>200 Day Avg</th>\n",
       "      <th>Short Ratio</th>\n",
       "      <th>Short % of Float</th>\n",
       "      <th>Weight</th>\n",
       "      <th>Expected Return</th>\n",
       "      <th>Standard Deviation</th>\n",
       "      <th>Sharpe Ratio</th>\n",
       "    </tr>\n",
       "  </thead>\n",
       "  <tbody>\n",
       "    <tr>\n",
       "      <th>0</th>\n",
       "      <td>GE</td>\n",
       "      <td>2025-05-19</td>\n",
       "      <td>GE Aerospace</td>\n",
       "      <td>Industrials</td>\n",
       "      <td>Aerospace &amp; Defense</td>\n",
       "      <td>United States</td>\n",
       "      <td>https://www.geaerospace.com</td>\n",
       "      <td>250158039040</td>\n",
       "      <td>255093096448</td>\n",
       "      <td>1062600970</td>\n",
       "      <td>...</td>\n",
       "      <td>234.67</td>\n",
       "      <td>150.20</td>\n",
       "      <td>198.98</td>\n",
       "      <td>185.90</td>\n",
       "      <td>1.56</td>\n",
       "      <td>0.01</td>\n",
       "      <td>0.40</td>\n",
       "      <td>0.415894</td>\n",
       "      <td>0.342721</td>\n",
       "      <td>1.213504</td>\n",
       "    </tr>\n",
       "    <tr>\n",
       "      <th>1</th>\n",
       "      <td>PGR</td>\n",
       "      <td>2025-05-19</td>\n",
       "      <td>The Progressive Corporation</td>\n",
       "      <td>Financial Services</td>\n",
       "      <td>Insurance - Property &amp; Casualty</td>\n",
       "      <td>United States</td>\n",
       "      <td>https://www.progressive.com</td>\n",
       "      <td>169310289920</td>\n",
       "      <td>171781554176</td>\n",
       "      <td>584025304</td>\n",
       "      <td>...</td>\n",
       "      <td>292.99</td>\n",
       "      <td>201.34</td>\n",
       "      <td>276.07</td>\n",
       "      <td>256.33</td>\n",
       "      <td>1.70</td>\n",
       "      <td>0.01</td>\n",
       "      <td>0.40</td>\n",
       "      <td>0.287302</td>\n",
       "      <td>0.250641</td>\n",
       "      <td>1.146266</td>\n",
       "    </tr>\n",
       "    <tr>\n",
       "      <th>2</th>\n",
       "      <td>TJX</td>\n",
       "      <td>2025-05-19</td>\n",
       "      <td>The TJX Companies, Inc.</td>\n",
       "      <td>Consumer Cyclical</td>\n",
       "      <td>Apparel Retail</td>\n",
       "      <td>United States</td>\n",
       "      <td>https://www.tjx.com</td>\n",
       "      <td>150714990592</td>\n",
       "      <td>156397174784</td>\n",
       "      <td>1114855115</td>\n",
       "      <td>...</td>\n",
       "      <td>135.08</td>\n",
       "      <td>97.53</td>\n",
       "      <td>123.89</td>\n",
       "      <td>120.49</td>\n",
       "      <td>2.14</td>\n",
       "      <td>0.01</td>\n",
       "      <td>0.10</td>\n",
       "      <td>0.195891</td>\n",
       "      <td>0.255341</td>\n",
       "      <td>0.767175</td>\n",
       "    </tr>\n",
       "    <tr>\n",
       "      <th>3</th>\n",
       "      <td>LIN</td>\n",
       "      <td>2025-05-19</td>\n",
       "      <td>Linde plc</td>\n",
       "      <td>Basic Materials</td>\n",
       "      <td>Specialty Chemicals</td>\n",
       "      <td>United Kingdom</td>\n",
       "      <td>https://www.linde.com</td>\n",
       "      <td>217196756992</td>\n",
       "      <td>235778342912</td>\n",
       "      <td>469446732</td>\n",
       "      <td>...</td>\n",
       "      <td>487.49</td>\n",
       "      <td>408.65</td>\n",
       "      <td>452.49</td>\n",
       "      <td>454.67</td>\n",
       "      <td>1.99</td>\n",
       "      <td>0.01</td>\n",
       "      <td>0.05</td>\n",
       "      <td>0.177398</td>\n",
       "      <td>0.223635</td>\n",
       "      <td>0.793246</td>\n",
       "    </tr>\n",
       "    <tr>\n",
       "      <th>4</th>\n",
       "      <td>ADP</td>\n",
       "      <td>2025-05-19</td>\n",
       "      <td>Automatic Data Processing, Inc.</td>\n",
       "      <td>Technology</td>\n",
       "      <td>Software - Application</td>\n",
       "      <td>United States</td>\n",
       "      <td>https://www.adp.com</td>\n",
       "      <td>131005554688</td>\n",
       "      <td>131325648896</td>\n",
       "      <td>405058134</td>\n",
       "      <td>...</td>\n",
       "      <td>322.90</td>\n",
       "      <td>231.27</td>\n",
       "      <td>299.02</td>\n",
       "      <td>292.56</td>\n",
       "      <td>2.76</td>\n",
       "      <td>0.01</td>\n",
       "      <td>0.05</td>\n",
       "      <td>0.180376</td>\n",
       "      <td>0.226907</td>\n",
       "      <td>0.794936</td>\n",
       "    </tr>\n",
       "  </tbody>\n",
       "</table>\n",
       "<p>5 rows × 58 columns</p>\n",
       "</div>"
      ],
      "text/plain": [
       "  Ticker        Date                             Name              Sector  \\\n",
       "0     GE  2025-05-19                     GE Aerospace         Industrials   \n",
       "1    PGR  2025-05-19      The Progressive Corporation  Financial Services   \n",
       "2    TJX  2025-05-19          The TJX Companies, Inc.   Consumer Cyclical   \n",
       "3    LIN  2025-05-19                        Linde plc     Basic Materials   \n",
       "4    ADP  2025-05-19  Automatic Data Processing, Inc.          Technology   \n",
       "\n",
       "                          Industry         Country  \\\n",
       "0              Aerospace & Defense   United States   \n",
       "1  Insurance - Property & Casualty   United States   \n",
       "2                   Apparel Retail   United States   \n",
       "3              Specialty Chemicals  United Kingdom   \n",
       "4           Software - Application   United States   \n",
       "\n",
       "                       Website    Market Cap  Enterprise Value  Float Shares  \\\n",
       "0  https://www.geaerospace.com  250158039040      255093096448    1062600970   \n",
       "1  https://www.progressive.com  169310289920      171781554176     584025304   \n",
       "2          https://www.tjx.com  150714990592      156397174784    1114855115   \n",
       "3        https://www.linde.com  217196756992      235778342912     469446732   \n",
       "4          https://www.adp.com  131005554688      131325648896     405058134   \n",
       "\n",
       "   ...  52W High  52W Low  50 Day Avg  200 Day Avg  Short Ratio  \\\n",
       "0  ...    234.67   150.20      198.98       185.90         1.56   \n",
       "1  ...    292.99   201.34      276.07       256.33         1.70   \n",
       "2  ...    135.08    97.53      123.89       120.49         2.14   \n",
       "3  ...    487.49   408.65      452.49       454.67         1.99   \n",
       "4  ...    322.90   231.27      299.02       292.56         2.76   \n",
       "\n",
       "   Short % of Float  Weight  Expected Return  Standard Deviation  Sharpe Ratio  \n",
       "0              0.01    0.40         0.415894            0.342721      1.213504  \n",
       "1              0.01    0.40         0.287302            0.250641      1.146266  \n",
       "2              0.01    0.10         0.195891            0.255341      0.767175  \n",
       "3              0.01    0.05         0.177398            0.223635      0.793246  \n",
       "4              0.01    0.05         0.180376            0.226907      0.794936  \n",
       "\n",
       "[5 rows x 58 columns]"
      ]
     },
     "metadata": {},
     "output_type": "display_data"
    }
   ],
   "source": [
    "portfolio_df = pd.read_excel(output_file, sheet_name=\"equity\")\n",
    "\n",
    "# Convert percentage strings to float values\n",
    "portfolio_df['Weight'] = portfolio_df['Weight'].replace('%', '', regex=True).astype(float)\n",
    "portfolio_tickers = portfolio_df[\"Ticker\"].tolist()\n",
    "\n",
    "print(portfolio_tickers)\n",
    "display(portfolio_df)"
   ]
  },
  {
   "cell_type": "markdown",
   "id": "ff3d536d",
   "metadata": {},
   "source": [
    "### Step 4: Download Returns"
   ]
  },
  {
   "cell_type": "code",
   "execution_count": 7,
   "id": "240dc240",
   "metadata": {
    "execution": {
     "iopub.execute_input": "2025-05-19T17:52:52.141275Z",
     "iopub.status.busy": "2025-05-19T17:52:52.141097Z",
     "iopub.status.idle": "2025-05-19T17:52:52.504296Z",
     "shell.execute_reply": "2025-05-19T17:52:52.503741Z"
    }
   },
   "outputs": [
    {
     "name": "stdout",
     "output_type": "stream",
     "text": [
      "Found 5 of 5 tickers in ../data/datasets/daily_stock_quotes.csv\n",
      "Missing tickers: []\n",
      "Found 1 of 1 tickers in ../data/datasets/daily_benchmark_quotes.csv\n",
      "Missing tickers: []\n",
      "\n",
      "Sharpe Ratios for individual assets:\n",
      "ADP: 0.8451\n",
      "GE: 1.1871\n",
      "LIN: 0.8422\n",
      "PGR: 1.1345\n",
      "TJX: 0.8279\n"
     ]
    },
    {
     "data": {
      "text/html": [
       "<div>\n",
       "<style scoped>\n",
       "    .dataframe tbody tr th:only-of-type {\n",
       "        vertical-align: middle;\n",
       "    }\n",
       "\n",
       "    .dataframe tbody tr th {\n",
       "        vertical-align: top;\n",
       "    }\n",
       "\n",
       "    .dataframe thead th {\n",
       "        text-align: right;\n",
       "    }\n",
       "</style>\n",
       "<table border=\"1\" class=\"dataframe\">\n",
       "  <thead>\n",
       "    <tr style=\"text-align: right;\">\n",
       "      <th></th>\n",
       "      <th>ADP</th>\n",
       "      <th>GE</th>\n",
       "      <th>LIN</th>\n",
       "      <th>PGR</th>\n",
       "      <th>TJX</th>\n",
       "    </tr>\n",
       "    <tr>\n",
       "      <th>Date</th>\n",
       "      <th></th>\n",
       "      <th></th>\n",
       "      <th></th>\n",
       "      <th></th>\n",
       "      <th></th>\n",
       "    </tr>\n",
       "  </thead>\n",
       "  <tbody>\n",
       "    <tr>\n",
       "      <th>2020-05-19</th>\n",
       "      <td>-0.024483</td>\n",
       "      <td>-0.009551</td>\n",
       "      <td>-0.010443</td>\n",
       "      <td>-0.009857</td>\n",
       "      <td>0.009846</td>\n",
       "    </tr>\n",
       "    <tr>\n",
       "      <th>2020-05-20</th>\n",
       "      <td>0.012522</td>\n",
       "      <td>0.033195</td>\n",
       "      <td>0.029694</td>\n",
       "      <td>-0.013049</td>\n",
       "      <td>0.011857</td>\n",
       "    </tr>\n",
       "    <tr>\n",
       "      <th>2020-05-21</th>\n",
       "      <td>-0.010855</td>\n",
       "      <td>0.009240</td>\n",
       "      <td>-0.011905</td>\n",
       "      <td>0.001769</td>\n",
       "      <td>0.065577</td>\n",
       "    </tr>\n",
       "    <tr>\n",
       "      <th>2020-05-22</th>\n",
       "      <td>0.011514</td>\n",
       "      <td>-0.010842</td>\n",
       "      <td>-0.014577</td>\n",
       "      <td>-0.003986</td>\n",
       "      <td>-0.016496</td>\n",
       "    </tr>\n",
       "    <tr>\n",
       "      <th>2020-05-26</th>\n",
       "      <td>0.029618</td>\n",
       "      <td>0.059134</td>\n",
       "      <td>0.011133</td>\n",
       "      <td>-0.008019</td>\n",
       "      <td>0.034663</td>\n",
       "    </tr>\n",
       "  </tbody>\n",
       "</table>\n",
       "</div>"
      ],
      "text/plain": [
       "                 ADP        GE       LIN       PGR       TJX\n",
       "Date                                                        \n",
       "2020-05-19 -0.024483 -0.009551 -0.010443 -0.009857  0.009846\n",
       "2020-05-20  0.012522  0.033195  0.029694 -0.013049  0.011857\n",
       "2020-05-21 -0.010855  0.009240 -0.011905  0.001769  0.065577\n",
       "2020-05-22  0.011514 -0.010842 -0.014577 -0.003986 -0.016496\n",
       "2020-05-26  0.029618  0.059134  0.011133 -0.008019  0.034663"
      ]
     },
     "metadata": {},
     "output_type": "display_data"
    }
   ],
   "source": [
    "# stock_returns = qs.utils.download_returns(ticker=portfolio_tickers, period=\"5y\").dropna()\n",
    "stock_quotes = load_and_filter_data('../data/datasets/daily_stock_quotes.csv', portfolio_tickers, start_date, end_date)\n",
    "stock_returns = np.log(stock_quotes / stock_quotes.shift(1)).dropna()\n",
    "\n",
    "benchmark_quotes = load_and_filter_data('../data/datasets/daily_benchmark_quotes.csv', benchmark, start_date, end_date)\n",
    "benchmark_returns = np.log(benchmark_quotes / benchmark_quotes.shift(1)).dropna()\n",
    "\n",
    "# Display summary statistics for all assets\n",
    "print(\"\\nSharpe Ratios for individual assets:\")\n",
    "sharpes = {col: qs.stats.sharpe(stock_returns[col]) for col in stock_returns.columns}\n",
    "for ticker, sharpe in sharpes.items():\n",
    "    print(f\"{ticker}: {sharpe:.4f}\")\n",
    "\n",
    "display(stock_returns.head())"
   ]
  },
  {
   "cell_type": "markdown",
   "id": "a40a588f",
   "metadata": {},
   "source": [
    "### Step 5: Plot Return Comparisons"
   ]
  },
  {
   "cell_type": "code",
   "execution_count": 8,
   "id": "89fe8da8",
   "metadata": {
    "execution": {
     "iopub.execute_input": "2025-05-19T17:52:52.506487Z",
     "iopub.status.busy": "2025-05-19T17:52:52.506106Z",
     "iopub.status.idle": "2025-05-19T17:52:52.597892Z",
     "shell.execute_reply": "2025-05-19T17:52:52.597303Z"
    }
   },
   "outputs": [
    {
     "name": "stdout",
     "output_type": "stream",
     "text": [
      "\n",
      "Portfolio Weights:\n",
      "GE: 40.00%\n",
      "PGR: 40.00%\n",
      "TJX: 10.00%\n",
      "LIN: 5.00%\n",
      "ADP: 5.00%\n",
      "\n",
      "Portfolio Performance Summary:\n",
      "Sharpe Ratio (Weighted Portfolio): 1.4870\n",
      "Sharpe Ratio (Equal-Weight): 1.3907\n"
     ]
    }
   ],
   "source": [
    "# Calculate portfolio returns using weights from Excel file\n",
    "portfolio_weights = portfolio_df.set_index('Ticker')['Weight'].to_dict()\n",
    "weighted_returns = pd.DataFrame()\n",
    "\n",
    "print(\"\\nPortfolio Weights:\")\n",
    "for ticker in portfolio_tickers:\n",
    "    weight = portfolio_weights.get(ticker, 0)\n",
    "    print(f\"{ticker}: {weight:.2%}\")\n",
    "    if ticker in stock_returns.columns:\n",
    "        weighted_returns[ticker] = stock_returns[ticker] * weight\n",
    "\n",
    "# Sum across all weighted returns to get the portfolio return\n",
    "portfolio_return = weighted_returns.sum(axis=1)\n",
    "\n",
    "# Create equal-weight portfolio for comparison\n",
    "equal_weight = 1/len([t for t in portfolio_tickers if t in stock_returns.columns])\n",
    "equal_weighted_returns = pd.DataFrame()\n",
    "\n",
    "for ticker in portfolio_tickers:\n",
    "    if ticker in stock_returns.columns:\n",
    "        equal_weighted_returns[ticker] = stock_returns[ticker] * equal_weight\n",
    "        \n",
    "equal_weight_return = equal_weighted_returns.sum(axis=1)\n",
    "\n",
    "print(\"\\nPortfolio Performance Summary:\")\n",
    "print(f\"Sharpe Ratio (Weighted Portfolio): {qs.stats.sharpe(portfolio_return):.4f}\")\n",
    "print(f\"Sharpe Ratio (Equal-Weight): {qs.stats.sharpe(equal_weight_return):.4f}\")\n",
    "\n",
    "plt.figure(figsize=(12, 6))\n",
    "(1 + portfolio_return).cumprod().plot(label='Weighted Portfolio')\n",
    "(1 + equal_weight_return).cumprod().plot(label='Equal Weight')\n",
    "(1 + benchmark_returns).cumprod().plot(label=benchmark)\n",
    "plt.legend()\n",
    "plt.title('Performance Comparison')\n",
    "plt.ylabel('Cumulative Return')\n",
    "plt.grid(True)\n",
    "plt.show()"
   ]
  },
  {
   "cell_type": "markdown",
   "id": "4c39a1ee",
   "metadata": {},
   "source": [
    "### Step 6: Generate Reports"
   ]
  },
  {
   "cell_type": "markdown",
   "id": "51e0abce",
   "metadata": {},
   "source": [
    "#### Portfolio (Weighted) vs Benchmark"
   ]
  },
  {
   "cell_type": "code",
   "execution_count": 9,
   "id": "7ff157dd",
   "metadata": {
    "execution": {
     "iopub.execute_input": "2025-05-19T17:52:52.599664Z",
     "iopub.status.busy": "2025-05-19T17:52:52.599328Z",
     "iopub.status.idle": "2025-05-19T17:52:59.978262Z",
     "shell.execute_reply": "2025-05-19T17:52:59.977609Z"
    }
   },
   "outputs": [
    {
     "name": "stderr",
     "output_type": "stream",
     "text": [
      "/opt/hostedtoolcache/Python/3.12.3/x64/lib/python3.12/site-packages/numpy/core/fromnumeric.py:86: FutureWarning: The behavior of DataFrame.prod with axis=None is deprecated, in a future version this will reduce over both axes and return a scalar. To retain the old behavior, pass axis=0 (or do not pass axis)\n",
      "  return reduction(axis=axis, out=out, **passkwargs)\n",
      "/opt/hostedtoolcache/Python/3.12.3/x64/lib/python3.12/site-packages/numpy/core/fromnumeric.py:86: FutureWarning: The behavior of DataFrame.prod with axis=None is deprecated, in a future version this will reduce over both axes and return a scalar. To retain the old behavior, pass axis=0 (or do not pass axis)\n",
      "  return reduction(axis=axis, out=out, **passkwargs)\n",
      "/opt/hostedtoolcache/Python/3.12.3/x64/lib/python3.12/site-packages/numpy/core/fromnumeric.py:86: FutureWarning: The behavior of DataFrame.prod with axis=None is deprecated, in a future version this will reduce over both axes and return a scalar. To retain the old behavior, pass axis=0 (or do not pass axis)\n",
      "  return reduction(axis=axis, out=out, **passkwargs)\n",
      "/opt/hostedtoolcache/Python/3.12.3/x64/lib/python3.12/site-packages/quantstats/stats.py:510: FutureWarning: 'M' is deprecated and will be removed in a future version, please use 'ME' instead.\n",
      "  returns = _utils._prepare_returns(returns, rf).resample(resolution).sum()\n",
      "/opt/hostedtoolcache/Python/3.12.3/x64/lib/python3.12/site-packages/quantstats/_plotting/wrappers.py:555: FutureWarning: 'A' is deprecated and will be removed in a future version, please use 'YE' instead.\n",
      "  .resample(\"A\")\n",
      "/opt/hostedtoolcache/Python/3.12.3/x64/lib/python3.12/site-packages/quantstats/_plotting/wrappers.py:557: FutureWarning: 'A' is deprecated and will be removed in a future version, please use 'YE' instead.\n",
      "  .resample(\"A\")\n",
      "/opt/hostedtoolcache/Python/3.12.3/x64/lib/python3.12/site-packages/quantstats/_plotting/wrappers.py:565: FutureWarning: 'A' is deprecated and will be removed in a future version, please use 'YE' instead.\n",
      "  returns = returns.resample(\"A\").apply(_stats.comp)\n",
      "/opt/hostedtoolcache/Python/3.12.3/x64/lib/python3.12/site-packages/quantstats/_plotting/wrappers.py:568: FutureWarning: 'A' is deprecated and will be removed in a future version, please use 'YE' instead.\n",
      "  returns = returns.resample(\"A\").last()\n",
      "/opt/hostedtoolcache/Python/3.12.3/x64/lib/python3.12/site-packages/quantstats/_plotting/core.py:433: FutureWarning: 'M' is deprecated and will be removed in a future version, please use 'ME' instead.\n",
      "  .resample(resample)\n",
      "/opt/hostedtoolcache/Python/3.12.3/x64/lib/python3.12/site-packages/quantstats/_plotting/core.py:435: FutureWarning: 'M' is deprecated and will be removed in a future version, please use 'ME' instead.\n",
      "  .resample(resample)\n",
      "/opt/hostedtoolcache/Python/3.12.3/x64/lib/python3.12/site-packages/quantstats/_plotting/core.py:440: FutureWarning: 'M' is deprecated and will be removed in a future version, please use 'ME' instead.\n",
      "  returns.fillna(0).resample(resample).apply(apply_fnc).resample(resample).last()\n",
      "/opt/hostedtoolcache/Python/3.12.3/x64/lib/python3.12/site-packages/quantstats/_plotting/core.py:1018: FutureWarning: 'M' is deprecated and will be removed in a future version, please use 'ME' instead.\n",
      "  port[\"Monthly\"] = port[\"Daily\"].resample(\"M\").apply(apply_fnc)\n",
      "/opt/hostedtoolcache/Python/3.12.3/x64/lib/python3.12/site-packages/quantstats/_plotting/core.py:1021: FutureWarning: 'Q' is deprecated and will be removed in a future version, please use 'QE' instead.\n",
      "  port[\"Quarterly\"] = port[\"Daily\"].resample(\"Q\").apply(apply_fnc)\n",
      "/opt/hostedtoolcache/Python/3.12.3/x64/lib/python3.12/site-packages/quantstats/_plotting/core.py:1024: FutureWarning: 'A' is deprecated and will be removed in a future version, please use 'YE' instead.\n",
      "  port[\"Yearly\"] = port[\"Daily\"].resample(\"A\").apply(apply_fnc)\n"
     ]
    },
    {
     "name": "stdout",
     "output_type": "stream",
     "text": [
      "Added download button and removed QuantStats attribution from portfolio_vs_benchmark-2025-05-16.html\n"
     ]
    },
    {
     "data": {
      "text/html": [
       "<h4>Performance Metrics</h4>"
      ],
      "text/plain": [
       "<IPython.core.display.HTML object>"
      ]
     },
     "metadata": {},
     "output_type": "display_data"
    },
    {
     "name": "stderr",
     "output_type": "stream",
     "text": [
      "/opt/hostedtoolcache/Python/3.12.3/x64/lib/python3.12/site-packages/numpy/core/fromnumeric.py:86: FutureWarning: The behavior of DataFrame.prod with axis=None is deprecated, in a future version this will reduce over both axes and return a scalar. To retain the old behavior, pass axis=0 (or do not pass axis)\n",
      "  return reduction(axis=axis, out=out, **passkwargs)\n",
      "/opt/hostedtoolcache/Python/3.12.3/x64/lib/python3.12/site-packages/numpy/core/fromnumeric.py:86: FutureWarning: The behavior of DataFrame.prod with axis=None is deprecated, in a future version this will reduce over both axes and return a scalar. To retain the old behavior, pass axis=0 (or do not pass axis)\n",
      "  return reduction(axis=axis, out=out, **passkwargs)\n",
      "/opt/hostedtoolcache/Python/3.12.3/x64/lib/python3.12/site-packages/numpy/core/fromnumeric.py:86: FutureWarning: The behavior of DataFrame.prod with axis=None is deprecated, in a future version this will reduce over both axes and return a scalar. To retain the old behavior, pass axis=0 (or do not pass axis)\n",
      "  return reduction(axis=axis, out=out, **passkwargs)\n",
      "/opt/hostedtoolcache/Python/3.12.3/x64/lib/python3.12/site-packages/quantstats/stats.py:510: FutureWarning: 'M' is deprecated and will be removed in a future version, please use 'ME' instead.\n",
      "  returns = _utils._prepare_returns(returns, rf).resample(resolution).sum()\n"
     ]
    },
    {
     "name": "stdout",
     "output_type": "stream",
     "text": [
      "                           ADME        Strategy\n",
      "-------------------------  ----------  ----------\n",
      "Start Period               2020-05-20  2020-05-20\n",
      "End Period                 2025-05-16  2025-05-16\n",
      "Risk-Free Rate             4.24%       4.24%\n",
      "Time in Market             68.0%       69.0%\n",
      "\n",
      "Cumulative Return          47.3%       336.0%\n",
      "CAGR﹪                     5.5%        22.59%\n",
      "\n",
      "Sharpe                     0.16        1.0\n",
      "Prob. Sharpe Ratio         35.13%      93.18%\n",
      "Smart Sharpe               0.16        0.99\n",
      "Sortino                    0.23        1.46\n",
      "Smart Sortino              0.22        1.44\n",
      "Sortino/√2                 0.16        1.03\n",
      "Smart Sortino/√2           0.16        1.02\n",
      "Omega                      1.23        1.23\n",
      "\n",
      "Max Drawdown               -24.34%     -22.12%\n",
      "Longest DD Days            898         314\n",
      "Volatility (ann.)          11.3%       17.69%\n",
      "R^2                        0.23        0.23\n",
      "Information Ratio          0.06        0.06\n",
      "Calmar                     0.23        1.02\n",
      "Skew                       -0.18       -0.47\n",
      "Kurtosis                   7.12        7.24\n",
      "\n",
      "Expected Daily %           0.02%       0.08%\n",
      "Expected Monthly %         0.64%       2.44%\n",
      "Expected Yearly %          6.67%       27.81%\n",
      "Kelly Criterion            4.74%       13.13%\n",
      "Risk of Ruin               0.0%        0.0%\n",
      "Daily Value-at-Risk        -1.15%      -1.75%\n",
      "Expected Shortfall (cVaR)  -1.15%      -1.75%\n",
      "\n",
      "Max Consecutive Wins       5           5\n",
      "Max Consecutive Losses     5           5\n",
      "Gain/Pain Ratio            0.12        0.29\n",
      "Gain/Pain (1M)             0.56        2.09\n",
      "\n",
      "Payoff Ratio               0.96        1.0\n",
      "Profit Factor              1.12        1.29\n",
      "Common Sense Ratio         1.12        1.49\n",
      "CPC Index                  0.57        0.73\n",
      "Tail Ratio                 1.0         1.16\n",
      "Outlier Win Ratio          7.34        4.44\n",
      "Outlier Loss Ratio         3.75        2.44\n",
      "\n",
      "MTD                        5.75%       7.13%\n",
      "3M                         -3.84%      7.87%\n",
      "6M                         -1.09%      17.72%\n",
      "YTD                        -0.89%      24.28%\n",
      "1Y                         9.34%       35.17%\n",
      "3Y (ann.)                  7.15%       31.02%\n",
      "5Y (ann.)                  5.3%        21.5%\n",
      "10Y (ann.)                 5.5%        22.59%\n",
      "All-time (ann.)            5.5%        22.59%\n",
      "\n",
      "Best Day                   6.17%       6.67%\n",
      "Worst Day                  -4.82%      -9.93%\n",
      "Best Month                 7.82%       16.27%\n",
      "Worst Month                -7.99%      -11.16%\n",
      "Best Year                  21.97%      48.07%\n",
      "Worst Year                 -23.07%     2.32%\n",
      "\n",
      "Avg. Drawdown              -2.05%      -2.5%\n",
      "Avg. Drawdown Days         28          17\n",
      "Recovery Factor            1.78        7.17\n",
      "Ulcer Index                0.12        0.06\n",
      "Serenity Index             0.11        2.28\n",
      "\n",
      "Avg. Up Month              3.48%       6.17%\n",
      "Avg. Down Month            -3.75%      -4.7%\n",
      "Win Days %                 53.44%      56.49%\n",
      "Win Month %                59.02%      68.85%\n",
      "Win Quarter %              71.43%      76.19%\n",
      "Win Year %                 66.67%      100.0%\n",
      "\n",
      "Beta                       -           0.74\n",
      "Alpha                      -           0.17\n",
      "Correlation                -           47.5%\n",
      "Treynor Ratio              -           445.93%\n"
     ]
    },
    {
     "data": {
      "text/plain": [
       "None"
      ]
     },
     "metadata": {},
     "output_type": "display_data"
    },
    {
     "data": {
      "text/html": [
       "<h4 style=\"margin-bottom:20px\">Worst 5 Drawdowns</h4>"
      ],
      "text/plain": [
       "<IPython.core.display.HTML object>"
      ]
     },
     "metadata": {},
     "output_type": "display_data"
    },
    {
     "data": {
      "text/html": [
       "<div>\n",
       "<style scoped>\n",
       "    .dataframe tbody tr th:only-of-type {\n",
       "        vertical-align: middle;\n",
       "    }\n",
       "\n",
       "    .dataframe tbody tr th {\n",
       "        vertical-align: top;\n",
       "    }\n",
       "\n",
       "    .dataframe thead th {\n",
       "        text-align: right;\n",
       "    }\n",
       "</style>\n",
       "<table border=\"1\" class=\"dataframe\">\n",
       "  <thead>\n",
       "    <tr style=\"text-align: right;\">\n",
       "      <th></th>\n",
       "      <th>Start</th>\n",
       "      <th>Valley</th>\n",
       "      <th>End</th>\n",
       "      <th>Days</th>\n",
       "      <th>Max Drawdown</th>\n",
       "      <th>99% Max Drawdown</th>\n",
       "    </tr>\n",
       "  </thead>\n",
       "  <tbody>\n",
       "    <tr>\n",
       "      <th>1</th>\n",
       "      <td>2022-01-13</td>\n",
       "      <td>2022-07-14</td>\n",
       "      <td>2022-11-22</td>\n",
       "      <td>314</td>\n",
       "      <td>-22.123936</td>\n",
       "      <td>-20.549891</td>\n",
       "    </tr>\n",
       "    <tr>\n",
       "      <th>2</th>\n",
       "      <td>2020-06-09</td>\n",
       "      <td>2020-06-26</td>\n",
       "      <td>2020-10-21</td>\n",
       "      <td>135</td>\n",
       "      <td>-14.137785</td>\n",
       "      <td>-13.823077</td>\n",
       "    </tr>\n",
       "    <tr>\n",
       "      <th>3</th>\n",
       "      <td>2025-03-03</td>\n",
       "      <td>2025-04-07</td>\n",
       "      <td>2025-05-06</td>\n",
       "      <td>65</td>\n",
       "      <td>-13.444617</td>\n",
       "      <td>-12.891833</td>\n",
       "    </tr>\n",
       "    <tr>\n",
       "      <th>4</th>\n",
       "      <td>2024-11-27</td>\n",
       "      <td>2024-12-18</td>\n",
       "      <td>2025-01-29</td>\n",
       "      <td>64</td>\n",
       "      <td>-10.705333</td>\n",
       "      <td>-9.709678</td>\n",
       "    </tr>\n",
       "    <tr>\n",
       "      <th>5</th>\n",
       "      <td>2021-05-17</td>\n",
       "      <td>2021-12-01</td>\n",
       "      <td>2022-01-06</td>\n",
       "      <td>235</td>\n",
       "      <td>-10.435218</td>\n",
       "      <td>-9.480028</td>\n",
       "    </tr>\n",
       "  </tbody>\n",
       "</table>\n",
       "</div>"
      ],
      "text/plain": [
       "        Start      Valley         End  Days  Max Drawdown  99% Max Drawdown\n",
       "1  2022-01-13  2022-07-14  2022-11-22   314    -22.123936        -20.549891\n",
       "2  2020-06-09  2020-06-26  2020-10-21   135    -14.137785        -13.823077\n",
       "3  2025-03-03  2025-04-07  2025-05-06    65    -13.444617        -12.891833\n",
       "4  2024-11-27  2024-12-18  2025-01-29    64    -10.705333         -9.709678\n",
       "5  2021-05-17  2021-12-01  2022-01-06   235    -10.435218         -9.480028"
      ]
     },
     "metadata": {},
     "output_type": "display_data"
    },
    {
     "data": {
      "text/html": [
       "<h4>Strategy Visualization</h4>"
      ],
      "text/plain": [
       "<IPython.core.display.HTML object>"
      ]
     },
     "metadata": {},
     "output_type": "display_data"
    },
    {
     "name": "stderr",
     "output_type": "stream",
     "text": [
      "/opt/hostedtoolcache/Python/3.12.3/x64/lib/python3.12/site-packages/quantstats/_plotting/wrappers.py:555: FutureWarning: 'A' is deprecated and will be removed in a future version, please use 'YE' instead.\n",
      "  .resample(\"A\")\n",
      "/opt/hostedtoolcache/Python/3.12.3/x64/lib/python3.12/site-packages/quantstats/_plotting/wrappers.py:557: FutureWarning: 'A' is deprecated and will be removed in a future version, please use 'YE' instead.\n",
      "  .resample(\"A\")\n",
      "/opt/hostedtoolcache/Python/3.12.3/x64/lib/python3.12/site-packages/quantstats/_plotting/wrappers.py:565: FutureWarning: 'A' is deprecated and will be removed in a future version, please use 'YE' instead.\n",
      "  returns = returns.resample(\"A\").apply(_stats.comp)\n",
      "/opt/hostedtoolcache/Python/3.12.3/x64/lib/python3.12/site-packages/quantstats/_plotting/wrappers.py:568: FutureWarning: 'A' is deprecated and will be removed in a future version, please use 'YE' instead.\n",
      "  returns = returns.resample(\"A\").last()\n",
      "/opt/hostedtoolcache/Python/3.12.3/x64/lib/python3.12/site-packages/quantstats/_plotting/core.py:433: FutureWarning: 'M' is deprecated and will be removed in a future version, please use 'ME' instead.\n",
      "  .resample(resample)\n",
      "/opt/hostedtoolcache/Python/3.12.3/x64/lib/python3.12/site-packages/quantstats/_plotting/core.py:435: FutureWarning: 'M' is deprecated and will be removed in a future version, please use 'ME' instead.\n",
      "  .resample(resample)\n",
      "/opt/hostedtoolcache/Python/3.12.3/x64/lib/python3.12/site-packages/quantstats/_plotting/core.py:440: FutureWarning: 'M' is deprecated and will be removed in a future version, please use 'ME' instead.\n",
      "  returns.fillna(0).resample(resample).apply(apply_fnc).resample(resample).last()\n",
      "/opt/hostedtoolcache/Python/3.12.3/x64/lib/python3.12/site-packages/quantstats/_plotting/core.py:1018: FutureWarning: 'M' is deprecated and will be removed in a future version, please use 'ME' instead.\n",
      "  port[\"Monthly\"] = port[\"Daily\"].resample(\"M\").apply(apply_fnc)\n",
      "/opt/hostedtoolcache/Python/3.12.3/x64/lib/python3.12/site-packages/quantstats/_plotting/core.py:1021: FutureWarning: 'Q' is deprecated and will be removed in a future version, please use 'QE' instead.\n",
      "  port[\"Quarterly\"] = port[\"Daily\"].resample(\"Q\").apply(apply_fnc)\n",
      "/opt/hostedtoolcache/Python/3.12.3/x64/lib/python3.12/site-packages/quantstats/_plotting/core.py:1024: FutureWarning: 'A' is deprecated and will be removed in a future version, please use 'YE' instead.\n",
      "  port[\"Yearly\"] = port[\"Daily\"].resample(\"A\").apply(apply_fnc)\n"
     ]
    }
   ],
   "source": [
    "portfolio_return = portfolio_return.resample('D').sum()  # Example of valid aggregation\n",
    "portfolio_return.name = \"Weighted Portfolio\"\n",
    "\n",
    "# Generate Report\n",
    "qs.reports.html(\n",
    "    portfolio_return,\n",
    "    benchmark_returns,\n",
    "    rf=risk_free_rate,\n",
    "    figsize=(8, 5),\n",
    "    # output=f'portfolio_vs_{benchmark}.html',\n",
    "    output=f'portfolio_vs_benchmark-{datetime.date(end_date)}.html',\n",
    "    title=f'Portfolio vs {benchmark} (Benchmark)',\n",
    "    benchmark_title=f'{benchmark}',\n",
    "    download_filename=f'portfolio_vs_{benchmark}.html'\n",
    ")\n",
    "\n",
    "qs.reports.full(\n",
    "    portfolio_return, \n",
    "    benchmark_returns,\n",
    "    rf=risk_free_rate, \n",
    "    figsize=(8, 5), \n",
    "    title=f'Portfolio vs {benchmark}',\n",
    "    benchmark_title=f'{benchmark}') "
   ]
  },
  {
   "cell_type": "markdown",
   "id": "fc233166",
   "metadata": {},
   "source": [
    "#### Portfolio (Weighted) vs Portolio (Equally-Weighted)"
   ]
  },
  {
   "cell_type": "code",
   "execution_count": 10,
   "id": "ba5f845c",
   "metadata": {
    "execution": {
     "iopub.execute_input": "2025-05-19T17:52:59.980879Z",
     "iopub.status.busy": "2025-05-19T17:52:59.980276Z",
     "iopub.status.idle": "2025-05-19T17:53:07.377787Z",
     "shell.execute_reply": "2025-05-19T17:53:07.377055Z"
    }
   },
   "outputs": [
    {
     "name": "stderr",
     "output_type": "stream",
     "text": [
      "/opt/hostedtoolcache/Python/3.12.3/x64/lib/python3.12/site-packages/numpy/core/fromnumeric.py:86: FutureWarning: The behavior of DataFrame.prod with axis=None is deprecated, in a future version this will reduce over both axes and return a scalar. To retain the old behavior, pass axis=0 (or do not pass axis)\n",
      "  return reduction(axis=axis, out=out, **passkwargs)\n",
      "/opt/hostedtoolcache/Python/3.12.3/x64/lib/python3.12/site-packages/numpy/core/fromnumeric.py:86: FutureWarning: The behavior of DataFrame.prod with axis=None is deprecated, in a future version this will reduce over both axes and return a scalar. To retain the old behavior, pass axis=0 (or do not pass axis)\n",
      "  return reduction(axis=axis, out=out, **passkwargs)\n",
      "/opt/hostedtoolcache/Python/3.12.3/x64/lib/python3.12/site-packages/numpy/core/fromnumeric.py:86: FutureWarning: The behavior of DataFrame.prod with axis=None is deprecated, in a future version this will reduce over both axes and return a scalar. To retain the old behavior, pass axis=0 (or do not pass axis)\n",
      "  return reduction(axis=axis, out=out, **passkwargs)\n",
      "/opt/hostedtoolcache/Python/3.12.3/x64/lib/python3.12/site-packages/quantstats/stats.py:510: FutureWarning: 'M' is deprecated and will be removed in a future version, please use 'ME' instead.\n",
      "  returns = _utils._prepare_returns(returns, rf).resample(resolution).sum()\n",
      "/opt/hostedtoolcache/Python/3.12.3/x64/lib/python3.12/site-packages/quantstats/_plotting/wrappers.py:555: FutureWarning: 'A' is deprecated and will be removed in a future version, please use 'YE' instead.\n",
      "  .resample(\"A\")\n",
      "/opt/hostedtoolcache/Python/3.12.3/x64/lib/python3.12/site-packages/quantstats/_plotting/wrappers.py:557: FutureWarning: 'A' is deprecated and will be removed in a future version, please use 'YE' instead.\n",
      "  .resample(\"A\")\n",
      "/opt/hostedtoolcache/Python/3.12.3/x64/lib/python3.12/site-packages/quantstats/_plotting/wrappers.py:565: FutureWarning: 'A' is deprecated and will be removed in a future version, please use 'YE' instead.\n",
      "  returns = returns.resample(\"A\").apply(_stats.comp)\n",
      "/opt/hostedtoolcache/Python/3.12.3/x64/lib/python3.12/site-packages/quantstats/_plotting/wrappers.py:568: FutureWarning: 'A' is deprecated and will be removed in a future version, please use 'YE' instead.\n",
      "  returns = returns.resample(\"A\").last()\n",
      "/opt/hostedtoolcache/Python/3.12.3/x64/lib/python3.12/site-packages/quantstats/_plotting/core.py:433: FutureWarning: 'M' is deprecated and will be removed in a future version, please use 'ME' instead.\n",
      "  .resample(resample)\n",
      "/opt/hostedtoolcache/Python/3.12.3/x64/lib/python3.12/site-packages/quantstats/_plotting/core.py:435: FutureWarning: 'M' is deprecated and will be removed in a future version, please use 'ME' instead.\n",
      "  .resample(resample)\n",
      "/opt/hostedtoolcache/Python/3.12.3/x64/lib/python3.12/site-packages/quantstats/_plotting/core.py:440: FutureWarning: 'M' is deprecated and will be removed in a future version, please use 'ME' instead.\n",
      "  returns.fillna(0).resample(resample).apply(apply_fnc).resample(resample).last()\n",
      "/opt/hostedtoolcache/Python/3.12.3/x64/lib/python3.12/site-packages/quantstats/_plotting/core.py:1018: FutureWarning: 'M' is deprecated and will be removed in a future version, please use 'ME' instead.\n",
      "  port[\"Monthly\"] = port[\"Daily\"].resample(\"M\").apply(apply_fnc)\n",
      "/opt/hostedtoolcache/Python/3.12.3/x64/lib/python3.12/site-packages/quantstats/_plotting/core.py:1021: FutureWarning: 'Q' is deprecated and will be removed in a future version, please use 'QE' instead.\n",
      "  port[\"Quarterly\"] = port[\"Daily\"].resample(\"Q\").apply(apply_fnc)\n",
      "/opt/hostedtoolcache/Python/3.12.3/x64/lib/python3.12/site-packages/quantstats/_plotting/core.py:1024: FutureWarning: 'A' is deprecated and will be removed in a future version, please use 'YE' instead.\n",
      "  port[\"Yearly\"] = port[\"Daily\"].resample(\"A\").apply(apply_fnc)\n"
     ]
    },
    {
     "name": "stdout",
     "output_type": "stream",
     "text": [
      "Added download button and removed QuantStats attribution from portfolio_vs_equal_weight-2025-05-16.html\n"
     ]
    },
    {
     "data": {
      "text/html": [
       "<h4>Performance Metrics</h4>"
      ],
      "text/plain": [
       "<IPython.core.display.HTML object>"
      ]
     },
     "metadata": {},
     "output_type": "display_data"
    },
    {
     "name": "stderr",
     "output_type": "stream",
     "text": [
      "/opt/hostedtoolcache/Python/3.12.3/x64/lib/python3.12/site-packages/numpy/core/fromnumeric.py:86: FutureWarning: The behavior of DataFrame.prod with axis=None is deprecated, in a future version this will reduce over both axes and return a scalar. To retain the old behavior, pass axis=0 (or do not pass axis)\n",
      "  return reduction(axis=axis, out=out, **passkwargs)\n",
      "/opt/hostedtoolcache/Python/3.12.3/x64/lib/python3.12/site-packages/numpy/core/fromnumeric.py:86: FutureWarning: The behavior of DataFrame.prod with axis=None is deprecated, in a future version this will reduce over both axes and return a scalar. To retain the old behavior, pass axis=0 (or do not pass axis)\n",
      "  return reduction(axis=axis, out=out, **passkwargs)\n",
      "/opt/hostedtoolcache/Python/3.12.3/x64/lib/python3.12/site-packages/numpy/core/fromnumeric.py:86: FutureWarning: The behavior of DataFrame.prod with axis=None is deprecated, in a future version this will reduce over both axes and return a scalar. To retain the old behavior, pass axis=0 (or do not pass axis)\n",
      "  return reduction(axis=axis, out=out, **passkwargs)\n",
      "/opt/hostedtoolcache/Python/3.12.3/x64/lib/python3.12/site-packages/quantstats/stats.py:510: FutureWarning: 'M' is deprecated and will be removed in a future version, please use 'ME' instead.\n",
      "  returns = _utils._prepare_returns(returns, rf).resample(resolution).sum()\n"
     ]
    },
    {
     "name": "stdout",
     "output_type": "stream",
     "text": [
      "                           Equal Weight Portfolio    Strategy\n",
      "-------------------------  ------------------------  ----------\n",
      "Start Period               2020-05-19                2020-05-19\n",
      "End Period                 2025-05-16                2025-05-16\n",
      "Risk-Free Rate             4.24%                     4.24%\n",
      "Time in Market             69.0%                     69.0%\n",
      "\n",
      "Cumulative Return          229.75%                   332.29%\n",
      "CAGR﹪                     17.93%                    22.43%\n",
      "\n",
      "Sharpe                     0.88                      1.0\n",
      "Prob. Sharpe Ratio         89.83%                    92.94%\n",
      "Smart Sharpe               0.87                      0.98\n",
      "Sortino                    1.28                      1.45\n",
      "Smart Sortino              1.26                      1.43\n",
      "Sortino/√2                 0.91                      1.02\n",
      "Smart Sortino/√2           0.89                      1.01\n",
      "Omega                      1.22                      1.22\n",
      "\n",
      "Max Drawdown               -19.91%                   -22.12%\n",
      "Longest DD Days            312                       314\n",
      "Volatility (ann.)          15.32%                    17.69%\n",
      "R^2                        0.87                      0.87\n",
      "Information Ratio          0.04                      0.04\n",
      "Calmar                     0.9                       1.01\n",
      "Skew                       -0.29                     -0.47\n",
      "Kurtosis                   6.67                      7.24\n",
      "\n",
      "Expected Daily %           0.07%                     0.08%\n",
      "Expected Monthly %         1.98%                     2.43%\n",
      "Expected Yearly %          22.0%                     27.63%\n",
      "Kelly Criterion            9.3%                      12.77%\n",
      "Risk of Ruin               0.0%                      0.0%\n",
      "Daily Value-at-Risk        -1.52%                    -1.75%\n",
      "Expected Shortfall (cVaR)  -1.52%                    -1.75%\n",
      "\n",
      "Max Consecutive Wins       5                         5\n",
      "Max Consecutive Losses     5                         5\n",
      "Gain/Pain Ratio            0.27                      0.29\n",
      "Gain/Pain (1M)             1.86                      2.08\n",
      "\n",
      "Payoff Ratio               1.0                       1.0\n",
      "Profit Factor              1.27                      1.29\n",
      "Common Sense Ratio         1.51                      1.49\n",
      "CPC Index                  0.69                      0.72\n",
      "Tail Ratio                 1.19                      1.16\n",
      "Outlier Win Ratio          6.16                      5.37\n",
      "Outlier Loss Ratio         3.28                      2.73\n",
      "\n",
      "MTD                        5.38%                     7.13%\n",
      "3M                         5.59%                     7.87%\n",
      "6M                         12.09%                    17.72%\n",
      "YTD                        16.67%                    24.28%\n",
      "1Y                         29.26%                    35.17%\n",
      "3Y (ann.)                  22.53%                    31.02%\n",
      "5Y (ann.)                  17.08%                    21.5%\n",
      "10Y (ann.)                 17.93%                    22.43%\n",
      "All-time (ann.)            17.93%                    22.43%\n",
      "\n",
      "Best Day                   6.5%                      6.67%\n",
      "Worst Day                  -7.64%                    -9.93%\n",
      "Best Month                 15.54%                    16.27%\n",
      "Worst Month                -10.45%                   -11.16%\n",
      "Best Year                  38.6%                     48.07%\n",
      "Worst Year                 -0.15%                    2.32%\n",
      "\n",
      "Avg. Drawdown              -2.3%                     -2.5%\n",
      "Avg. Drawdown Days         16                        17\n",
      "Recovery Factor            6.42                      7.13\n",
      "Ulcer Index                0.05                      0.06\n",
      "Serenity Index             2.08                      2.27\n",
      "\n",
      "Avg. Up Month              4.9%                      5.74%\n",
      "Avg. Down Month            -3.79%                    -4.38%\n",
      "Win Days %                 54.54%                    56.45%\n",
      "Win Month %                68.85%                    68.85%\n",
      "Win Quarter %              80.95%                    76.19%\n",
      "Win Year %                 83.33%                    100.0%\n",
      "\n",
      "Beta                       -                         1.08\n",
      "Alpha                      -                         0.03\n",
      "Correlation                -                         93.32%\n",
      "Treynor Ratio              -                         304.49%\n"
     ]
    },
    {
     "data": {
      "text/plain": [
       "None"
      ]
     },
     "metadata": {},
     "output_type": "display_data"
    },
    {
     "data": {
      "text/html": [
       "<h4 style=\"margin-bottom:20px\">Worst 5 Drawdowns</h4>"
      ],
      "text/plain": [
       "<IPython.core.display.HTML object>"
      ]
     },
     "metadata": {},
     "output_type": "display_data"
    },
    {
     "data": {
      "text/html": [
       "<div>\n",
       "<style scoped>\n",
       "    .dataframe tbody tr th:only-of-type {\n",
       "        vertical-align: middle;\n",
       "    }\n",
       "\n",
       "    .dataframe tbody tr th {\n",
       "        vertical-align: top;\n",
       "    }\n",
       "\n",
       "    .dataframe thead th {\n",
       "        text-align: right;\n",
       "    }\n",
       "</style>\n",
       "<table border=\"1\" class=\"dataframe\">\n",
       "  <thead>\n",
       "    <tr style=\"text-align: right;\">\n",
       "      <th></th>\n",
       "      <th>Start</th>\n",
       "      <th>Valley</th>\n",
       "      <th>End</th>\n",
       "      <th>Days</th>\n",
       "      <th>Max Drawdown</th>\n",
       "      <th>99% Max Drawdown</th>\n",
       "    </tr>\n",
       "  </thead>\n",
       "  <tbody>\n",
       "    <tr>\n",
       "      <th>1</th>\n",
       "      <td>2022-01-13</td>\n",
       "      <td>2022-07-14</td>\n",
       "      <td>2022-11-22</td>\n",
       "      <td>314</td>\n",
       "      <td>-22.123936</td>\n",
       "      <td>-20.549891</td>\n",
       "    </tr>\n",
       "    <tr>\n",
       "      <th>2</th>\n",
       "      <td>2020-06-09</td>\n",
       "      <td>2020-06-26</td>\n",
       "      <td>2020-10-21</td>\n",
       "      <td>135</td>\n",
       "      <td>-14.137785</td>\n",
       "      <td>-13.823077</td>\n",
       "    </tr>\n",
       "    <tr>\n",
       "      <th>3</th>\n",
       "      <td>2025-03-03</td>\n",
       "      <td>2025-04-07</td>\n",
       "      <td>2025-05-06</td>\n",
       "      <td>65</td>\n",
       "      <td>-13.444617</td>\n",
       "      <td>-12.891833</td>\n",
       "    </tr>\n",
       "    <tr>\n",
       "      <th>4</th>\n",
       "      <td>2024-11-27</td>\n",
       "      <td>2024-12-18</td>\n",
       "      <td>2025-01-29</td>\n",
       "      <td>64</td>\n",
       "      <td>-10.705333</td>\n",
       "      <td>-9.709678</td>\n",
       "    </tr>\n",
       "    <tr>\n",
       "      <th>5</th>\n",
       "      <td>2021-05-17</td>\n",
       "      <td>2021-12-01</td>\n",
       "      <td>2022-01-06</td>\n",
       "      <td>235</td>\n",
       "      <td>-10.435218</td>\n",
       "      <td>-9.480028</td>\n",
       "    </tr>\n",
       "  </tbody>\n",
       "</table>\n",
       "</div>"
      ],
      "text/plain": [
       "        Start      Valley         End  Days  Max Drawdown  99% Max Drawdown\n",
       "1  2022-01-13  2022-07-14  2022-11-22   314    -22.123936        -20.549891\n",
       "2  2020-06-09  2020-06-26  2020-10-21   135    -14.137785        -13.823077\n",
       "3  2025-03-03  2025-04-07  2025-05-06    65    -13.444617        -12.891833\n",
       "4  2024-11-27  2024-12-18  2025-01-29    64    -10.705333         -9.709678\n",
       "5  2021-05-17  2021-12-01  2022-01-06   235    -10.435218         -9.480028"
      ]
     },
     "metadata": {},
     "output_type": "display_data"
    },
    {
     "data": {
      "text/html": [
       "<h4>Strategy Visualization</h4>"
      ],
      "text/plain": [
       "<IPython.core.display.HTML object>"
      ]
     },
     "metadata": {},
     "output_type": "display_data"
    },
    {
     "name": "stderr",
     "output_type": "stream",
     "text": [
      "/opt/hostedtoolcache/Python/3.12.3/x64/lib/python3.12/site-packages/quantstats/_plotting/wrappers.py:555: FutureWarning: 'A' is deprecated and will be removed in a future version, please use 'YE' instead.\n",
      "  .resample(\"A\")\n",
      "/opt/hostedtoolcache/Python/3.12.3/x64/lib/python3.12/site-packages/quantstats/_plotting/wrappers.py:557: FutureWarning: 'A' is deprecated and will be removed in a future version, please use 'YE' instead.\n",
      "  .resample(\"A\")\n",
      "/opt/hostedtoolcache/Python/3.12.3/x64/lib/python3.12/site-packages/quantstats/_plotting/wrappers.py:565: FutureWarning: 'A' is deprecated and will be removed in a future version, please use 'YE' instead.\n",
      "  returns = returns.resample(\"A\").apply(_stats.comp)\n",
      "/opt/hostedtoolcache/Python/3.12.3/x64/lib/python3.12/site-packages/quantstats/_plotting/wrappers.py:568: FutureWarning: 'A' is deprecated and will be removed in a future version, please use 'YE' instead.\n",
      "  returns = returns.resample(\"A\").last()\n",
      "/opt/hostedtoolcache/Python/3.12.3/x64/lib/python3.12/site-packages/quantstats/_plotting/core.py:433: FutureWarning: 'M' is deprecated and will be removed in a future version, please use 'ME' instead.\n",
      "  .resample(resample)\n",
      "/opt/hostedtoolcache/Python/3.12.3/x64/lib/python3.12/site-packages/quantstats/_plotting/core.py:435: FutureWarning: 'M' is deprecated and will be removed in a future version, please use 'ME' instead.\n",
      "  .resample(resample)\n",
      "/opt/hostedtoolcache/Python/3.12.3/x64/lib/python3.12/site-packages/quantstats/_plotting/core.py:440: FutureWarning: 'M' is deprecated and will be removed in a future version, please use 'ME' instead.\n",
      "  returns.fillna(0).resample(resample).apply(apply_fnc).resample(resample).last()\n",
      "/opt/hostedtoolcache/Python/3.12.3/x64/lib/python3.12/site-packages/quantstats/_plotting/core.py:1018: FutureWarning: 'M' is deprecated and will be removed in a future version, please use 'ME' instead.\n",
      "  port[\"Monthly\"] = port[\"Daily\"].resample(\"M\").apply(apply_fnc)\n",
      "/opt/hostedtoolcache/Python/3.12.3/x64/lib/python3.12/site-packages/quantstats/_plotting/core.py:1021: FutureWarning: 'Q' is deprecated and will be removed in a future version, please use 'QE' instead.\n",
      "  port[\"Quarterly\"] = port[\"Daily\"].resample(\"Q\").apply(apply_fnc)\n",
      "/opt/hostedtoolcache/Python/3.12.3/x64/lib/python3.12/site-packages/quantstats/_plotting/core.py:1024: FutureWarning: 'A' is deprecated and will be removed in a future version, please use 'YE' instead.\n",
      "  port[\"Yearly\"] = port[\"Daily\"].resample(\"A\").apply(apply_fnc)\n"
     ]
    }
   ],
   "source": [
    "# Ensure equal_weight_return and portfolio_return are properly aggregated if resampled\n",
    "equal_weight_return = equal_weight_return.resample('D').sum() if equal_weight_return.index.freq is None else equal_weight_return\n",
    "portfolio_return = portfolio_return.resample('D').sum() if portfolio_return.index.freq is None else portfolio_return\n",
    "\n",
    "# Set the name for the equal weight portfolio\n",
    "equal_weight_return.name = \"Equal Weight Portfolio\"\n",
    "\n",
    "# Generate Report\n",
    "qs.reports.html(\n",
    "    portfolio_return,\n",
    "    equal_weight_return,\n",
    "    rf=risk_free_rate,\n",
    "    figsize=(8, 5),\n",
    "    output=f'portfolio_vs_equal_weight-{datetime.date(end_date)}.html',\n",
    "    title='Portfolio (Weighted) vs Portolio (Equally-Weighted)',\n",
    "    benchmark_title=\"Equal Weight Portfolio\",\n",
    "    download_filename=\"portfolio_vs_equal_weight.html\" \n",
    ")\n",
    "\n",
    "qs.reports.full(\n",
    "    portfolio_return, \n",
    "    equal_weight_return,\n",
    "    rf=risk_free_rate, \n",
    "    figsize=(8, 5), \n",
    "    title='Portfolio vs Equal Weight',\n",
    "    benchmark_title=\"Equal Weight Portfolio\",\n",
    "    ) "
   ]
  }
 ],
 "metadata": {
  "kernelspec": {
   "display_name": ".venv",
   "language": "python",
   "name": "python3"
  },
  "language_info": {
   "codemirror_mode": {
    "name": "ipython",
    "version": 3
   },
   "file_extension": ".py",
   "mimetype": "text/x-python",
   "name": "python",
   "nbconvert_exporter": "python",
   "pygments_lexer": "ipython3",
   "version": "3.12.3"
  }
 },
 "nbformat": 4,
 "nbformat_minor": 5
}
