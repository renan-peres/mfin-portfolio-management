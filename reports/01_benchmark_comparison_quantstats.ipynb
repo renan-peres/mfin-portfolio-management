{
 "cells": [
  {
   "cell_type": "markdown",
   "id": "87d75d93",
   "metadata": {},
   "source": [
    "# Portfolio Performance vs. Benchmark"
   ]
  },
  {
   "cell_type": "markdown",
   "id": "03c32a8d",
   "metadata": {},
   "source": [
    "### Step 1: Import Libraries"
   ]
  },
  {
   "cell_type": "code",
   "execution_count": 1,
   "id": "af63bf54",
   "metadata": {
    "execution": {
     "iopub.execute_input": "2025-05-26T01:35:49.965486Z",
     "iopub.status.busy": "2025-05-26T01:35:49.965312Z",
     "iopub.status.idle": "2025-05-26T01:35:51.105220Z",
     "shell.execute_reply": "2025-05-26T01:35:51.104637Z"
    }
   },
   "outputs": [],
   "source": [
    "# Data manipulation libraries\n",
    "import pandas as pd\n",
    "import numpy as np\n",
    "from scipy.optimize import minimize\n",
    "from datetime import datetime, timedelta\n",
    "from pandas.tseries.offsets import BDay\n",
    "\n",
    "# Visualization libraries\n",
    "import matplotlib.pyplot as plt\n",
    "import plotly\n",
    "import plotly.express as px\n",
    "import seaborn as sns\n",
    "import plotly.graph_objects as go\n",
    "import plotly.io as pio\n",
    "from IPython.display import Image, display\n",
    "\n",
    "# System libraries\n",
    "import os\n",
    "import sys\n",
    "import logging\n",
    "import warnings\n",
    "\n",
    "warnings.filterwarnings(\"ignore\", category=UserWarning)  # Font warnings\n",
    "warnings.filterwarnings(\"ignore\", category=FutureWarning, message=\".*inplace.*\")  # Pandas warnings\n",
    "logging.getLogger('matplotlib.font_manager').disabled = True"
   ]
  },
  {
   "cell_type": "code",
   "execution_count": 2,
   "id": "99e4f182",
   "metadata": {
    "execution": {
     "iopub.execute_input": "2025-05-26T01:35:51.107324Z",
     "iopub.status.busy": "2025-05-26T01:35:51.107011Z",
     "iopub.status.idle": "2025-05-26T01:35:51.389955Z",
     "shell.execute_reply": "2025-05-26T01:35:51.389383Z"
    }
   },
   "outputs": [
    {
     "name": "stdout",
     "output_type": "stream",
     "text": [
      "============================================================\n",
      "               QuantStats Compatibility Tool                \n",
      "============================================================\n",
      "\n",
      "Part 1: Directly patching QuantStats package files\n",
      "------------------------------------------------------------\n",
      "Found QuantStats utils file at: /opt/hostedtoolcache/Python/3.12.3/x64/lib/python3.12/site-packages/quantstats/__init__.py\n",
      "Creating backup at: /opt/hostedtoolcache/Python/3.12.3/x64/lib/python3.12/site-packages/quantstats/__init__.py.bak\n",
      "Successfully fixed indentation in QuantStats __init__.py file\n",
      "✓ QuantStats utils file patched successfully\n",
      "\n",
      "Part 2: Fixing resampling issues\n",
      "------------------------------------------------------------\n",
      "Found 1 potential QuantStats installation(s)\n",
      "Checking /opt/hostedtoolcache/Python/3.12.3/x64/lib/python3.12/site-packages/quantstats/_plotting/core.py\n",
      "✓ Found 'plot_timeseries' function in /opt/hostedtoolcache/Python/3.12.3/x64/lib/python3.12/site-packages/quantstats/_plotting/core.py\n",
      "✓ No 'sum(axis=0)' calls found - may already be fixed\n",
      "Examining /opt/hostedtoolcache/Python/3.12.3/x64/lib/python3.12/site-packages/quantstats/_plotting/core.py...\n",
      "✓ Found 'plot_timeseries' function in /opt/hostedtoolcache/Python/3.12.3/x64/lib/python3.12/site-packages/quantstats/_plotting/core.py\n",
      "✓ No 'sum(axis=0)' calls found - may already be fixed\n",
      "No applicable fixes found for /opt/hostedtoolcache/Python/3.12.3/x64/lib/python3.12/site-packages/quantstats/_plotting/core.py\n",
      "⚠️ Resampling fix not applied or not needed\n",
      "\n",
      "Part 3: Importing and patching QuantStats\n",
      "------------------------------------------------------------\n",
      "✓ Successfully imported quantstats\n",
      "Successfully patched QuantStats HTML report functionality\n",
      "✓ HTML report functionality enhanced with download button\n"
     ]
    }
   ],
   "source": [
    "# UDFs\n",
    "current_dir = os.path.abspath(os.path.join(os.getcwd(), '..', 'py')) \n",
    "sys.path.append(current_dir)\n",
    "from quantstats_fix import *\n",
    "from utils import load_and_filter_data, export_to_excel\n",
    "qs.extend_pandas()"
   ]
  },
  {
   "cell_type": "markdown",
   "id": "32933b31",
   "metadata": {},
   "source": [
    "### Step 2: Define Parameters "
   ]
  },
  {
   "cell_type": "markdown",
   "id": "534662b1",
   "metadata": {},
   "source": [
    "#### Dates"
   ]
  },
  {
   "cell_type": "code",
   "execution_count": 3,
   "id": "6157c2ed",
   "metadata": {
    "execution": {
     "iopub.execute_input": "2025-05-26T01:35:51.392110Z",
     "iopub.status.busy": "2025-05-26T01:35:51.391615Z",
     "iopub.status.idle": "2025-05-26T01:35:51.395807Z",
     "shell.execute_reply": "2025-05-26T01:35:51.395358Z"
    }
   },
   "outputs": [
    {
     "name": "stdout",
     "output_type": "stream",
     "text": [
      "Date Range: 2020-05-24 to 2025-05-23\n",
      "Time span: 1825 days (5.00 years)\n"
     ]
    }
   ],
   "source": [
    "# Define the date range\n",
    "end_date = (datetime.today() - BDay(1)).to_pydatetime()  # Subtract 1 business day\n",
    "# end_date = pd.to_datetime('2025-04-26')  # Report date\n",
    "start_date = end_date - timedelta(days=5*365)\n",
    "\n",
    "# Convert datetime objects to Unix timestamps (seconds since Jan 1, 1970)\n",
    "start_timestamp = int(start_date.timestamp())\n",
    "end_timestamp = int(end_date.timestamp())\n",
    "\n",
    "# Print the date range\n",
    "days_difference = (end_date - start_date).days\n",
    "print(f\"Date Range: {start_date.strftime('%Y-%m-%d')} to {end_date.strftime('%Y-%m-%d')}\")\n",
    "print(f\"Time span: {days_difference} days ({days_difference/365:.2f} years)\")"
   ]
  },
  {
   "cell_type": "markdown",
   "id": "d116c468",
   "metadata": {},
   "source": [
    "#### Report File"
   ]
  },
  {
   "cell_type": "code",
   "execution_count": 4,
   "id": "76222543",
   "metadata": {
    "execution": {
     "iopub.execute_input": "2025-05-26T01:35:51.397541Z",
     "iopub.status.busy": "2025-05-26T01:35:51.397190Z",
     "iopub.status.idle": "2025-05-26T01:35:51.489769Z",
     "shell.execute_reply": "2025-05-26T01:35:51.489162Z"
    }
   },
   "outputs": [
    {
     "name": "stdout",
     "output_type": "stream",
     "text": [
      "XRLV\n"
     ]
    }
   ],
   "source": [
    "output_file = f'portfolio-{datetime.date(end_date)}.xlsx'\n",
    "\n",
    "# benchmark = 'ADME'\n",
    "benchmark = pd.read_excel(output_file, sheet_name=\"benchmark\")['Benchmark'].values[0]\n",
    "print(benchmark)"
   ]
  },
  {
   "cell_type": "markdown",
   "id": "45c2abd8",
   "metadata": {},
   "source": [
    "#### Risk-free rate (T-bill, %)"
   ]
  },
  {
   "cell_type": "code",
   "execution_count": 5,
   "id": "5349aec6",
   "metadata": {
    "execution": {
     "iopub.execute_input": "2025-05-26T01:35:51.491651Z",
     "iopub.status.busy": "2025-05-26T01:35:51.491456Z",
     "iopub.status.idle": "2025-05-26T01:35:51.599492Z",
     "shell.execute_reply": "2025-05-26T01:35:51.598985Z"
    }
   },
   "outputs": [
    {
     "name": "stdout",
     "output_type": "stream",
     "text": [
      "Risk-Free Rate: 0.04232 -- 13 WEEK TREASURY BILL (^IRX)\n"
     ]
    }
   ],
   "source": [
    "# Load and process data\n",
    "risk_free_df = pd.read_excel(output_file, sheet_name=\"daily_quotes\", index_col=0)['^IRX']\n",
    "# risk_free_rate  = 0.0433                              # 3‑month T‑Bill\n",
    "risk_free_rate = risk_free_df.iloc[-1] / 100 \n",
    "\n",
    "# Display result\n",
    "print(\"Risk-Free Rate:\", risk_free_rate, \"-- 13 WEEK TREASURY BILL (^IRX)\")"
   ]
  },
  {
   "cell_type": "markdown",
   "id": "49293477",
   "metadata": {},
   "source": [
    "### Step 3: Read Portfolio Data (Excel)"
   ]
  },
  {
   "cell_type": "code",
   "execution_count": 6,
   "id": "c7f5a054",
   "metadata": {
    "execution": {
     "iopub.execute_input": "2025-05-26T01:35:51.601394Z",
     "iopub.status.busy": "2025-05-26T01:35:51.601198Z",
     "iopub.status.idle": "2025-05-26T01:35:51.638835Z",
     "shell.execute_reply": "2025-05-26T01:35:51.638241Z"
    }
   },
   "outputs": [
    {
     "name": "stdout",
     "output_type": "stream",
     "text": [
      "['PGR', 'GE', 'TMUS', 'LIN', 'ADP']\n"
     ]
    },
    {
     "data": {
      "text/html": [
       "<div>\n",
       "<style scoped>\n",
       "    .dataframe tbody tr th:only-of-type {\n",
       "        vertical-align: middle;\n",
       "    }\n",
       "\n",
       "    .dataframe tbody tr th {\n",
       "        vertical-align: top;\n",
       "    }\n",
       "\n",
       "    .dataframe thead th {\n",
       "        text-align: right;\n",
       "    }\n",
       "</style>\n",
       "<table border=\"1\" class=\"dataframe\">\n",
       "  <thead>\n",
       "    <tr style=\"text-align: right;\">\n",
       "      <th></th>\n",
       "      <th>Ticker</th>\n",
       "      <th>Date</th>\n",
       "      <th>Name</th>\n",
       "      <th>Sector</th>\n",
       "      <th>Industry</th>\n",
       "      <th>Country</th>\n",
       "      <th>Website</th>\n",
       "      <th>Market Cap</th>\n",
       "      <th>Enterprise Value</th>\n",
       "      <th>Float Shares</th>\n",
       "      <th>...</th>\n",
       "      <th>52W High</th>\n",
       "      <th>52W Low</th>\n",
       "      <th>50 Day Avg</th>\n",
       "      <th>200 Day Avg</th>\n",
       "      <th>Short Ratio</th>\n",
       "      <th>Short % of Float</th>\n",
       "      <th>Weight</th>\n",
       "      <th>Expected Return</th>\n",
       "      <th>Standard Deviation</th>\n",
       "      <th>Sharpe Ratio</th>\n",
       "    </tr>\n",
       "  </thead>\n",
       "  <tbody>\n",
       "    <tr>\n",
       "      <th>0</th>\n",
       "      <td>PGR</td>\n",
       "      <td>2025-05-26</td>\n",
       "      <td>The Progressive Corporation</td>\n",
       "      <td>Financial Services</td>\n",
       "      <td>Insurance - Property &amp; Casualty</td>\n",
       "      <td>United States</td>\n",
       "      <td>https://www.progressive.com</td>\n",
       "      <td>162559901696</td>\n",
       "      <td>166663815168</td>\n",
       "      <td>584025304</td>\n",
       "      <td>...</td>\n",
       "      <td>292.99</td>\n",
       "      <td>201.34</td>\n",
       "      <td>276.41</td>\n",
       "      <td>258.02</td>\n",
       "      <td>1.70</td>\n",
       "      <td>0.01</td>\n",
       "      <td>0.400000</td>\n",
       "      <td>0.287915</td>\n",
       "      <td>0.250840</td>\n",
       "      <td>1.147800</td>\n",
       "    </tr>\n",
       "    <tr>\n",
       "      <th>1</th>\n",
       "      <td>GE</td>\n",
       "      <td>2025-05-26</td>\n",
       "      <td>GE Aerospace</td>\n",
       "      <td>Industrials</td>\n",
       "      <td>Aerospace &amp; Defense</td>\n",
       "      <td>United States</td>\n",
       "      <td>https://www.geaerospace.com</td>\n",
       "      <td>248244928512</td>\n",
       "      <td>256170147840</td>\n",
       "      <td>1062600970</td>\n",
       "      <td>...</td>\n",
       "      <td>237.30</td>\n",
       "      <td>150.20</td>\n",
       "      <td>203.02</td>\n",
       "      <td>187.63</td>\n",
       "      <td>1.56</td>\n",
       "      <td>0.01</td>\n",
       "      <td>0.360814</td>\n",
       "      <td>0.392155</td>\n",
       "      <td>0.341643</td>\n",
       "      <td>1.147853</td>\n",
       "    </tr>\n",
       "    <tr>\n",
       "      <th>2</th>\n",
       "      <td>TMUS</td>\n",
       "      <td>2025-05-26</td>\n",
       "      <td>T-Mobile US, Inc.</td>\n",
       "      <td>Communication Services</td>\n",
       "      <td>Telecom Services</td>\n",
       "      <td>United States</td>\n",
       "      <td>https://www.t-mobile.com</td>\n",
       "      <td>275778109440</td>\n",
       "      <td>385465909248</td>\n",
       "      <td>452736028</td>\n",
       "      <td>...</td>\n",
       "      <td>276.49</td>\n",
       "      <td>165.37</td>\n",
       "      <td>252.59</td>\n",
       "      <td>232.01</td>\n",
       "      <td>2.29</td>\n",
       "      <td>0.03</td>\n",
       "      <td>0.139186</td>\n",
       "      <td>0.174163</td>\n",
       "      <td>0.242295</td>\n",
       "      <td>0.718803</td>\n",
       "    </tr>\n",
       "    <tr>\n",
       "      <th>3</th>\n",
       "      <td>LIN</td>\n",
       "      <td>2025-05-26</td>\n",
       "      <td>Linde plc</td>\n",
       "      <td>Basic Materials</td>\n",
       "      <td>Specialty Chemicals</td>\n",
       "      <td>United Kingdom</td>\n",
       "      <td>https://www.linde.com</td>\n",
       "      <td>216015241216</td>\n",
       "      <td>236310904832</td>\n",
       "      <td>469470296</td>\n",
       "      <td>...</td>\n",
       "      <td>487.49</td>\n",
       "      <td>408.65</td>\n",
       "      <td>452.58</td>\n",
       "      <td>454.89</td>\n",
       "      <td>1.99</td>\n",
       "      <td>0.01</td>\n",
       "      <td>0.050000</td>\n",
       "      <td>0.177413</td>\n",
       "      <td>0.223146</td>\n",
       "      <td>0.795056</td>\n",
       "    </tr>\n",
       "    <tr>\n",
       "      <th>4</th>\n",
       "      <td>ADP</td>\n",
       "      <td>2025-05-26</td>\n",
       "      <td>Automatic Data Processing, Inc.</td>\n",
       "      <td>Technology</td>\n",
       "      <td>Software - Application</td>\n",
       "      <td>United States</td>\n",
       "      <td>https://www.adp.com</td>\n",
       "      <td>130337816576</td>\n",
       "      <td>132023836672</td>\n",
       "      <td>405058134</td>\n",
       "      <td>...</td>\n",
       "      <td>323.66</td>\n",
       "      <td>231.27</td>\n",
       "      <td>301.51</td>\n",
       "      <td>294.09</td>\n",
       "      <td>2.76</td>\n",
       "      <td>0.01</td>\n",
       "      <td>0.050000</td>\n",
       "      <td>0.178086</td>\n",
       "      <td>0.226229</td>\n",
       "      <td>0.787192</td>\n",
       "    </tr>\n",
       "  </tbody>\n",
       "</table>\n",
       "<p>5 rows × 58 columns</p>\n",
       "</div>"
      ],
      "text/plain": [
       "  Ticker        Date                             Name                  Sector  \\\n",
       "0    PGR  2025-05-26      The Progressive Corporation      Financial Services   \n",
       "1     GE  2025-05-26                     GE Aerospace             Industrials   \n",
       "2   TMUS  2025-05-26                T-Mobile US, Inc.  Communication Services   \n",
       "3    LIN  2025-05-26                        Linde plc         Basic Materials   \n",
       "4    ADP  2025-05-26  Automatic Data Processing, Inc.              Technology   \n",
       "\n",
       "                          Industry         Country  \\\n",
       "0  Insurance - Property & Casualty   United States   \n",
       "1              Aerospace & Defense   United States   \n",
       "2                 Telecom Services   United States   \n",
       "3              Specialty Chemicals  United Kingdom   \n",
       "4           Software - Application   United States   \n",
       "\n",
       "                       Website    Market Cap  Enterprise Value  Float Shares  \\\n",
       "0  https://www.progressive.com  162559901696      166663815168     584025304   \n",
       "1  https://www.geaerospace.com  248244928512      256170147840    1062600970   \n",
       "2     https://www.t-mobile.com  275778109440      385465909248     452736028   \n",
       "3        https://www.linde.com  216015241216      236310904832     469470296   \n",
       "4          https://www.adp.com  130337816576      132023836672     405058134   \n",
       "\n",
       "   ...  52W High  52W Low  50 Day Avg  200 Day Avg  Short Ratio  \\\n",
       "0  ...    292.99   201.34      276.41       258.02         1.70   \n",
       "1  ...    237.30   150.20      203.02       187.63         1.56   \n",
       "2  ...    276.49   165.37      252.59       232.01         2.29   \n",
       "3  ...    487.49   408.65      452.58       454.89         1.99   \n",
       "4  ...    323.66   231.27      301.51       294.09         2.76   \n",
       "\n",
       "   Short % of Float    Weight  Expected Return  Standard Deviation  \\\n",
       "0              0.01  0.400000         0.287915            0.250840   \n",
       "1              0.01  0.360814         0.392155            0.341643   \n",
       "2              0.03  0.139186         0.174163            0.242295   \n",
       "3              0.01  0.050000         0.177413            0.223146   \n",
       "4              0.01  0.050000         0.178086            0.226229   \n",
       "\n",
       "   Sharpe Ratio  \n",
       "0      1.147800  \n",
       "1      1.147853  \n",
       "2      0.718803  \n",
       "3      0.795056  \n",
       "4      0.787192  \n",
       "\n",
       "[5 rows x 58 columns]"
      ]
     },
     "metadata": {},
     "output_type": "display_data"
    }
   ],
   "source": [
    "portfolio_df = pd.read_excel(output_file, sheet_name=\"equity\")\n",
    "\n",
    "# Convert percentage strings to float values\n",
    "portfolio_df['Weight'] = portfolio_df['Weight'].replace('%', '', regex=True).astype(float)\n",
    "portfolio_tickers = portfolio_df[\"Ticker\"].tolist()\n",
    "\n",
    "print(portfolio_tickers)\n",
    "display(portfolio_df)"
   ]
  },
  {
   "cell_type": "markdown",
   "id": "ff3d536d",
   "metadata": {},
   "source": [
    "### Step 4: Download Returns"
   ]
  },
  {
   "cell_type": "code",
   "execution_count": 7,
   "id": "240dc240",
   "metadata": {
    "execution": {
     "iopub.execute_input": "2025-05-26T01:35:51.640716Z",
     "iopub.status.busy": "2025-05-26T01:35:51.640343Z",
     "iopub.status.idle": "2025-05-26T01:35:52.007770Z",
     "shell.execute_reply": "2025-05-26T01:35:52.007185Z"
    }
   },
   "outputs": [
    {
     "name": "stdout",
     "output_type": "stream",
     "text": [
      "Found 5 of 5 tickers in ../data/datasets/daily_stock_quotes.csv\n",
      "Missing tickers: []\n",
      "Found 1 of 1 tickers in ../data/datasets/daily_benchmark_quotes.csv\n",
      "Missing tickers: []\n",
      "\n",
      "Sharpe Ratios for individual assets:\n",
      "ADP: 0.8384\n",
      "GE: 1.1402\n",
      "LIN: 0.8436\n",
      "PGR: 1.1357\n",
      "TMUS: 0.7844\n"
     ]
    },
    {
     "data": {
      "text/html": [
       "<div>\n",
       "<style scoped>\n",
       "    .dataframe tbody tr th:only-of-type {\n",
       "        vertical-align: middle;\n",
       "    }\n",
       "\n",
       "    .dataframe tbody tr th {\n",
       "        vertical-align: top;\n",
       "    }\n",
       "\n",
       "    .dataframe thead th {\n",
       "        text-align: right;\n",
       "    }\n",
       "</style>\n",
       "<table border=\"1\" class=\"dataframe\">\n",
       "  <thead>\n",
       "    <tr style=\"text-align: right;\">\n",
       "      <th></th>\n",
       "      <th>ADP</th>\n",
       "      <th>GE</th>\n",
       "      <th>LIN</th>\n",
       "      <th>PGR</th>\n",
       "      <th>TMUS</th>\n",
       "    </tr>\n",
       "    <tr>\n",
       "      <th>Date</th>\n",
       "      <th></th>\n",
       "      <th></th>\n",
       "      <th></th>\n",
       "      <th></th>\n",
       "      <th></th>\n",
       "    </tr>\n",
       "  </thead>\n",
       "  <tbody>\n",
       "    <tr>\n",
       "      <th>2020-05-27</th>\n",
       "      <td>0.040505</td>\n",
       "      <td>0.069456</td>\n",
       "      <td>0.000667</td>\n",
       "      <td>0.031119</td>\n",
       "      <td>0.016870</td>\n",
       "    </tr>\n",
       "    <tr>\n",
       "      <th>2020-05-28</th>\n",
       "      <td>0.000921</td>\n",
       "      <td>-0.072483</td>\n",
       "      <td>0.035126</td>\n",
       "      <td>0.001589</td>\n",
       "      <td>0.020617</td>\n",
       "    </tr>\n",
       "    <tr>\n",
       "      <th>2020-05-29</th>\n",
       "      <td>0.011593</td>\n",
       "      <td>-0.031407</td>\n",
       "      <td>0.011422</td>\n",
       "      <td>0.014185</td>\n",
       "      <td>0.008211</td>\n",
       "    </tr>\n",
       "    <tr>\n",
       "      <th>2020-06-01</th>\n",
       "      <td>-0.006390</td>\n",
       "      <td>0.028371</td>\n",
       "      <td>0.014175</td>\n",
       "      <td>0.008359</td>\n",
       "      <td>-0.003379</td>\n",
       "    </tr>\n",
       "    <tr>\n",
       "      <th>2020-06-02</th>\n",
       "      <td>0.018374</td>\n",
       "      <td>0.041977</td>\n",
       "      <td>0.009737</td>\n",
       "      <td>0.009408</td>\n",
       "      <td>0.007052</td>\n",
       "    </tr>\n",
       "  </tbody>\n",
       "</table>\n",
       "</div>"
      ],
      "text/plain": [
       "                 ADP        GE       LIN       PGR      TMUS\n",
       "Date                                                        \n",
       "2020-05-27  0.040505  0.069456  0.000667  0.031119  0.016870\n",
       "2020-05-28  0.000921 -0.072483  0.035126  0.001589  0.020617\n",
       "2020-05-29  0.011593 -0.031407  0.011422  0.014185  0.008211\n",
       "2020-06-01 -0.006390  0.028371  0.014175  0.008359 -0.003379\n",
       "2020-06-02  0.018374  0.041977  0.009737  0.009408  0.007052"
      ]
     },
     "metadata": {},
     "output_type": "display_data"
    }
   ],
   "source": [
    "# stock_returns = qs.utils.download_returns(ticker=portfolio_tickers, period=\"5y\").dropna()\n",
    "stock_quotes = load_and_filter_data('../data/datasets/daily_stock_quotes.csv', portfolio_tickers, start_date, end_date)\n",
    "stock_returns = np.log(stock_quotes / stock_quotes.shift(1)).dropna()\n",
    "\n",
    "benchmark_quotes = load_and_filter_data('../data/datasets/daily_benchmark_quotes.csv', benchmark, start_date, end_date)\n",
    "benchmark_returns = np.log(benchmark_quotes / benchmark_quotes.shift(1)).dropna()\n",
    "\n",
    "# Display summary statistics for all assets\n",
    "print(\"\\nSharpe Ratios for individual assets:\")\n",
    "sharpes = {col: qs.stats.sharpe(stock_returns[col]) for col in stock_returns.columns}\n",
    "for ticker, sharpe in sharpes.items():\n",
    "    print(f\"{ticker}: {sharpe:.4f}\")\n",
    "\n",
    "display(stock_returns.head())"
   ]
  },
  {
   "cell_type": "markdown",
   "id": "a40a588f",
   "metadata": {},
   "source": [
    "### Step 5: Plot Return Comparisons"
   ]
  },
  {
   "cell_type": "code",
   "execution_count": 8,
   "id": "89fe8da8",
   "metadata": {
    "execution": {
     "iopub.execute_input": "2025-05-26T01:35:52.009516Z",
     "iopub.status.busy": "2025-05-26T01:35:52.009334Z",
     "iopub.status.idle": "2025-05-26T01:35:52.106956Z",
     "shell.execute_reply": "2025-05-26T01:35:52.106426Z"
    }
   },
   "outputs": [
    {
     "name": "stdout",
     "output_type": "stream",
     "text": [
      "\n",
      "Portfolio Weights:\n",
      "PGR: 40.00%\n",
      "GE: 36.08%\n",
      "TMUS: 13.92%\n",
      "LIN: 5.00%\n",
      "ADP: 5.00%\n",
      "\n",
      "Portfolio Performance Summary:\n",
      "Sharpe Ratio (Weighted Portfolio): 1.4774\n",
      "Sharpe Ratio (Equal-Weight): 1.3943\n"
     ]
    }
   ],
   "source": [
    "# Calculate portfolio returns using weights from Excel file\n",
    "portfolio_weights = portfolio_df.set_index('Ticker')['Weight'].to_dict()\n",
    "weighted_returns = pd.DataFrame()\n",
    "\n",
    "print(\"\\nPortfolio Weights:\")\n",
    "for ticker in portfolio_tickers:\n",
    "    weight = portfolio_weights.get(ticker, 0)\n",
    "    print(f\"{ticker}: {weight:.2%}\")\n",
    "    if ticker in stock_returns.columns:\n",
    "        weighted_returns[ticker] = stock_returns[ticker] * weight\n",
    "\n",
    "# Sum across all weighted returns to get the portfolio return\n",
    "portfolio_return = weighted_returns.sum(axis=1)\n",
    "\n",
    "# Create equal-weight portfolio for comparison\n",
    "equal_weight = 1/len([t for t in portfolio_tickers if t in stock_returns.columns])\n",
    "equal_weighted_returns = pd.DataFrame()\n",
    "\n",
    "for ticker in portfolio_tickers:\n",
    "    if ticker in stock_returns.columns:\n",
    "        equal_weighted_returns[ticker] = stock_returns[ticker] * equal_weight\n",
    "        \n",
    "equal_weight_return = equal_weighted_returns.sum(axis=1)\n",
    "\n",
    "print(\"\\nPortfolio Performance Summary:\")\n",
    "print(f\"Sharpe Ratio (Weighted Portfolio): {qs.stats.sharpe(portfolio_return):.4f}\")\n",
    "print(f\"Sharpe Ratio (Equal-Weight): {qs.stats.sharpe(equal_weight_return):.4f}\")\n",
    "\n",
    "plt.figure(figsize=(12, 6))\n",
    "(1 + portfolio_return).cumprod().plot(label='Weighted Portfolio')\n",
    "(1 + equal_weight_return).cumprod().plot(label='Equal Weight')\n",
    "(1 + benchmark_returns).cumprod().plot(label=benchmark)\n",
    "plt.legend()\n",
    "plt.title('Performance Comparison')\n",
    "plt.ylabel('Cumulative Return')\n",
    "plt.grid(True)\n",
    "plt.show()"
   ]
  },
  {
   "cell_type": "markdown",
   "id": "4c39a1ee",
   "metadata": {},
   "source": [
    "### Step 6: Generate Reports"
   ]
  },
  {
   "cell_type": "markdown",
   "id": "51e0abce",
   "metadata": {},
   "source": [
    "#### Portfolio (Weighted) vs Benchmark"
   ]
  },
  {
   "cell_type": "code",
   "execution_count": 9,
   "id": "7ff157dd",
   "metadata": {
    "execution": {
     "iopub.execute_input": "2025-05-26T01:35:52.109060Z",
     "iopub.status.busy": "2025-05-26T01:35:52.108625Z",
     "iopub.status.idle": "2025-05-26T01:35:59.213433Z",
     "shell.execute_reply": "2025-05-26T01:35:59.212618Z"
    }
   },
   "outputs": [
    {
     "name": "stderr",
     "output_type": "stream",
     "text": [
      "/opt/hostedtoolcache/Python/3.12.3/x64/lib/python3.12/site-packages/numpy/core/fromnumeric.py:86: FutureWarning: The behavior of DataFrame.prod with axis=None is deprecated, in a future version this will reduce over both axes and return a scalar. To retain the old behavior, pass axis=0 (or do not pass axis)\n",
      "  return reduction(axis=axis, out=out, **passkwargs)\n",
      "/opt/hostedtoolcache/Python/3.12.3/x64/lib/python3.12/site-packages/numpy/core/fromnumeric.py:86: FutureWarning: The behavior of DataFrame.prod with axis=None is deprecated, in a future version this will reduce over both axes and return a scalar. To retain the old behavior, pass axis=0 (or do not pass axis)\n",
      "  return reduction(axis=axis, out=out, **passkwargs)\n",
      "/opt/hostedtoolcache/Python/3.12.3/x64/lib/python3.12/site-packages/numpy/core/fromnumeric.py:86: FutureWarning: The behavior of DataFrame.prod with axis=None is deprecated, in a future version this will reduce over both axes and return a scalar. To retain the old behavior, pass axis=0 (or do not pass axis)\n",
      "  return reduction(axis=axis, out=out, **passkwargs)\n",
      "/opt/hostedtoolcache/Python/3.12.3/x64/lib/python3.12/site-packages/quantstats/stats.py:510: FutureWarning: 'M' is deprecated and will be removed in a future version, please use 'ME' instead.\n",
      "  returns = _utils._prepare_returns(returns, rf).resample(resolution).sum()\n",
      "/opt/hostedtoolcache/Python/3.12.3/x64/lib/python3.12/site-packages/quantstats/_plotting/wrappers.py:555: FutureWarning: 'A' is deprecated and will be removed in a future version, please use 'YE' instead.\n",
      "  .resample(\"A\")\n",
      "/opt/hostedtoolcache/Python/3.12.3/x64/lib/python3.12/site-packages/quantstats/_plotting/wrappers.py:557: FutureWarning: 'A' is deprecated and will be removed in a future version, please use 'YE' instead.\n",
      "  .resample(\"A\")\n",
      "/opt/hostedtoolcache/Python/3.12.3/x64/lib/python3.12/site-packages/quantstats/_plotting/wrappers.py:565: FutureWarning: 'A' is deprecated and will be removed in a future version, please use 'YE' instead.\n",
      "  returns = returns.resample(\"A\").apply(_stats.comp)\n",
      "/opt/hostedtoolcache/Python/3.12.3/x64/lib/python3.12/site-packages/quantstats/_plotting/wrappers.py:568: FutureWarning: 'A' is deprecated and will be removed in a future version, please use 'YE' instead.\n",
      "  returns = returns.resample(\"A\").last()\n",
      "/opt/hostedtoolcache/Python/3.12.3/x64/lib/python3.12/site-packages/quantstats/_plotting/core.py:433: FutureWarning: 'M' is deprecated and will be removed in a future version, please use 'ME' instead.\n",
      "  .resample(resample)\n",
      "/opt/hostedtoolcache/Python/3.12.3/x64/lib/python3.12/site-packages/quantstats/_plotting/core.py:435: FutureWarning: 'M' is deprecated and will be removed in a future version, please use 'ME' instead.\n",
      "  .resample(resample)\n",
      "/opt/hostedtoolcache/Python/3.12.3/x64/lib/python3.12/site-packages/quantstats/_plotting/core.py:440: FutureWarning: 'M' is deprecated and will be removed in a future version, please use 'ME' instead.\n",
      "  returns.fillna(0).resample(resample).apply(apply_fnc).resample(resample).last()\n",
      "/opt/hostedtoolcache/Python/3.12.3/x64/lib/python3.12/site-packages/quantstats/_plotting/core.py:1018: FutureWarning: 'M' is deprecated and will be removed in a future version, please use 'ME' instead.\n",
      "  port[\"Monthly\"] = port[\"Daily\"].resample(\"M\").apply(apply_fnc)\n",
      "/opt/hostedtoolcache/Python/3.12.3/x64/lib/python3.12/site-packages/quantstats/_plotting/core.py:1021: FutureWarning: 'Q' is deprecated and will be removed in a future version, please use 'QE' instead.\n",
      "  port[\"Quarterly\"] = port[\"Daily\"].resample(\"Q\").apply(apply_fnc)\n",
      "/opt/hostedtoolcache/Python/3.12.3/x64/lib/python3.12/site-packages/quantstats/_plotting/core.py:1024: FutureWarning: 'A' is deprecated and will be removed in a future version, please use 'YE' instead.\n",
      "  port[\"Yearly\"] = port[\"Daily\"].resample(\"A\").apply(apply_fnc)\n"
     ]
    },
    {
     "name": "stdout",
     "output_type": "stream",
     "text": [
      "Added download button and removed QuantStats attribution from portfolio_vs_benchmark-2025-05-23.html\n"
     ]
    },
    {
     "data": {
      "text/html": [
       "<h4>Performance Metrics</h4>"
      ],
      "text/plain": [
       "<IPython.core.display.HTML object>"
      ]
     },
     "metadata": {},
     "output_type": "display_data"
    },
    {
     "name": "stderr",
     "output_type": "stream",
     "text": [
      "/opt/hostedtoolcache/Python/3.12.3/x64/lib/python3.12/site-packages/numpy/core/fromnumeric.py:86: FutureWarning: The behavior of DataFrame.prod with axis=None is deprecated, in a future version this will reduce over both axes and return a scalar. To retain the old behavior, pass axis=0 (or do not pass axis)\n",
      "  return reduction(axis=axis, out=out, **passkwargs)\n",
      "/opt/hostedtoolcache/Python/3.12.3/x64/lib/python3.12/site-packages/numpy/core/fromnumeric.py:86: FutureWarning: The behavior of DataFrame.prod with axis=None is deprecated, in a future version this will reduce over both axes and return a scalar. To retain the old behavior, pass axis=0 (or do not pass axis)\n",
      "  return reduction(axis=axis, out=out, **passkwargs)\n",
      "/opt/hostedtoolcache/Python/3.12.3/x64/lib/python3.12/site-packages/numpy/core/fromnumeric.py:86: FutureWarning: The behavior of DataFrame.prod with axis=None is deprecated, in a future version this will reduce over both axes and return a scalar. To retain the old behavior, pass axis=0 (or do not pass axis)\n",
      "  return reduction(axis=axis, out=out, **passkwargs)\n",
      "/opt/hostedtoolcache/Python/3.12.3/x64/lib/python3.12/site-packages/quantstats/stats.py:510: FutureWarning: 'M' is deprecated and will be removed in a future version, please use 'ME' instead.\n",
      "  returns = _utils._prepare_returns(returns, rf).resample(resolution).sum()\n"
     ]
    },
    {
     "name": "stdout",
     "output_type": "stream",
     "text": [
      "                           XRLV        Strategy\n",
      "-------------------------  ----------  ----------\n",
      "Start Period               2020-05-28  2020-05-28\n",
      "End Period                 2025-05-22  2025-05-22\n",
      "Risk-Free Rate             4.23%       4.23%\n",
      "Time in Market             68.0%       69.0%\n",
      "\n",
      "Cumulative Return          62.54%      285.17%\n",
      "CAGR﹪                     6.96%       20.53%\n",
      "\n",
      "Sharpe                     0.29        0.95\n",
      "Prob. Sharpe Ratio         48.81%      91.4%\n",
      "Smart Sharpe               0.28        0.92\n",
      "Sortino                    0.39        1.36\n",
      "Smart Sortino              0.38        1.32\n",
      "Sortino/√2                 0.28        0.96\n",
      "Smart Sortino/√2           0.27        0.94\n",
      "Omega                      1.21        1.21\n",
      "\n",
      "Max Drawdown               -16.46%     -18.21%\n",
      "Longest DD Days            927         542\n",
      "Volatility (ann.)          11.12%      16.8%\n",
      "R^2                        0.31        0.31\n",
      "Information Ratio          0.06        0.06\n",
      "Calmar                     0.42        1.13\n",
      "Skew                       -0.73       -0.67\n",
      "Kurtosis                   7.94        8.72\n",
      "\n",
      "Expected Daily %           0.03%       0.07%\n",
      "Expected Monthly %         0.8%        2.24%\n",
      "Expected Yearly %          8.43%       25.2%\n",
      "Kelly Criterion            5.37%       12.35%\n",
      "Risk of Ruin               0.0%        0.0%\n",
      "Daily Value-at-Risk        -1.12%      -1.66%\n",
      "Expected Shortfall (cVaR)  -1.12%      -1.66%\n",
      "\n",
      "Max Consecutive Wins       5           5\n",
      "Max Consecutive Losses     5           5\n",
      "Gain/Pain Ratio            0.15        0.28\n",
      "Gain/Pain (1M)             0.77        1.88\n",
      "\n",
      "Payoff Ratio               0.95        1.03\n",
      "Profit Factor              1.15        1.28\n",
      "Common Sense Ratio         1.14        1.5\n",
      "CPC Index                  0.59        0.73\n",
      "Tail Ratio                 0.99        1.17\n",
      "Outlier Win Ratio          7.11        4.46\n",
      "Outlier Loss Ratio         3.74        2.53\n",
      "\n",
      "MTD                        -0.93%      4.22%\n",
      "3M                         -1.41%      4.67%\n",
      "6M                         -1.94%      11.93%\n",
      "YTD                        3.14%       21.13%\n",
      "1Y                         10.8%       35.04%\n",
      "3Y (ann.)                  5.77%       29.21%\n",
      "5Y (ann.)                  6.94%       20.34%\n",
      "10Y (ann.)                 6.96%       20.53%\n",
      "All-time (ann.)            6.96%       20.53%\n",
      "\n",
      "Best Day                   4.3%        6.26%\n",
      "Worst Day                  -5.76%      -10.28%\n",
      "Best Month                 8.16%       15.48%\n",
      "Worst Month                -7.86%      -10.44%\n",
      "Best Year                  26.53%      48.29%\n",
      "Worst Year                 -6.17%      5.04%\n",
      "\n",
      "Avg. Drawdown              -1.84%      -2.22%\n",
      "Avg. Drawdown Days         28          18\n",
      "Recovery Factor            3.22        7.97\n",
      "Ulcer Index                0.06        0.05\n",
      "Serenity Index             0.54        2.66\n",
      "\n",
      "Avg. Up Month              3.67%       6.07%\n",
      "Avg. Down Month            -3.49%      -5.01%\n",
      "Win Days %                 53.96%      55.58%\n",
      "Win Month %                60.66%      67.21%\n",
      "Win Quarter %              61.9%       80.95%\n",
      "Win Year %                 83.33%      100.0%\n",
      "\n",
      "Beta                       -           0.84\n",
      "Alpha                      -           0.14\n",
      "Correlation                -           55.77%\n",
      "Treynor Ratio              -           333.33%\n"
     ]
    },
    {
     "data": {
      "text/plain": [
       "None"
      ]
     },
     "metadata": {},
     "output_type": "display_data"
    },
    {
     "data": {
      "text/html": [
       "<h4 style=\"margin-bottom:20px\">Worst 5 Drawdowns</h4>"
      ],
      "text/plain": [
       "<IPython.core.display.HTML object>"
      ]
     },
     "metadata": {},
     "output_type": "display_data"
    },
    {
     "data": {
      "text/html": [
       "<div>\n",
       "<style scoped>\n",
       "    .dataframe tbody tr th:only-of-type {\n",
       "        vertical-align: middle;\n",
       "    }\n",
       "\n",
       "    .dataframe tbody tr th {\n",
       "        vertical-align: top;\n",
       "    }\n",
       "\n",
       "    .dataframe thead th {\n",
       "        text-align: right;\n",
       "    }\n",
       "</style>\n",
       "<table border=\"1\" class=\"dataframe\">\n",
       "  <thead>\n",
       "    <tr style=\"text-align: right;\">\n",
       "      <th></th>\n",
       "      <th>Start</th>\n",
       "      <th>Valley</th>\n",
       "      <th>End</th>\n",
       "      <th>Days</th>\n",
       "      <th>Max Drawdown</th>\n",
       "      <th>99% Max Drawdown</th>\n",
       "    </tr>\n",
       "  </thead>\n",
       "  <tbody>\n",
       "    <tr>\n",
       "      <th>1</th>\n",
       "      <td>2021-05-17</td>\n",
       "      <td>2022-07-14</td>\n",
       "      <td>2022-11-09</td>\n",
       "      <td>542</td>\n",
       "      <td>-18.205021</td>\n",
       "      <td>-17.048514</td>\n",
       "    </tr>\n",
       "    <tr>\n",
       "      <th>2</th>\n",
       "      <td>2025-03-03</td>\n",
       "      <td>2025-04-07</td>\n",
       "      <td>2025-05-14</td>\n",
       "      <td>73</td>\n",
       "      <td>-13.425986</td>\n",
       "      <td>-13.003787</td>\n",
       "    </tr>\n",
       "    <tr>\n",
       "      <th>3</th>\n",
       "      <td>2020-06-09</td>\n",
       "      <td>2020-06-26</td>\n",
       "      <td>2020-10-08</td>\n",
       "      <td>122</td>\n",
       "      <td>-11.804142</td>\n",
       "      <td>-11.466772</td>\n",
       "    </tr>\n",
       "    <tr>\n",
       "      <th>4</th>\n",
       "      <td>2024-11-27</td>\n",
       "      <td>2024-12-18</td>\n",
       "      <td>2025-01-29</td>\n",
       "      <td>64</td>\n",
       "      <td>-11.103602</td>\n",
       "      <td>-10.365327</td>\n",
       "    </tr>\n",
       "    <tr>\n",
       "      <th>5</th>\n",
       "      <td>2021-01-13</td>\n",
       "      <td>2021-01-29</td>\n",
       "      <td>2021-03-02</td>\n",
       "      <td>49</td>\n",
       "      <td>-7.624665</td>\n",
       "      <td>-7.500999</td>\n",
       "    </tr>\n",
       "  </tbody>\n",
       "</table>\n",
       "</div>"
      ],
      "text/plain": [
       "        Start      Valley         End  Days  Max Drawdown  99% Max Drawdown\n",
       "1  2021-05-17  2022-07-14  2022-11-09   542    -18.205021        -17.048514\n",
       "2  2025-03-03  2025-04-07  2025-05-14    73    -13.425986        -13.003787\n",
       "3  2020-06-09  2020-06-26  2020-10-08   122    -11.804142        -11.466772\n",
       "4  2024-11-27  2024-12-18  2025-01-29    64    -11.103602        -10.365327\n",
       "5  2021-01-13  2021-01-29  2021-03-02    49     -7.624665         -7.500999"
      ]
     },
     "metadata": {},
     "output_type": "display_data"
    },
    {
     "data": {
      "text/html": [
       "<h4>Strategy Visualization</h4>"
      ],
      "text/plain": [
       "<IPython.core.display.HTML object>"
      ]
     },
     "metadata": {},
     "output_type": "display_data"
    },
    {
     "name": "stderr",
     "output_type": "stream",
     "text": [
      "/opt/hostedtoolcache/Python/3.12.3/x64/lib/python3.12/site-packages/quantstats/_plotting/wrappers.py:555: FutureWarning: 'A' is deprecated and will be removed in a future version, please use 'YE' instead.\n",
      "  .resample(\"A\")\n",
      "/opt/hostedtoolcache/Python/3.12.3/x64/lib/python3.12/site-packages/quantstats/_plotting/wrappers.py:557: FutureWarning: 'A' is deprecated and will be removed in a future version, please use 'YE' instead.\n",
      "  .resample(\"A\")\n",
      "/opt/hostedtoolcache/Python/3.12.3/x64/lib/python3.12/site-packages/quantstats/_plotting/wrappers.py:565: FutureWarning: 'A' is deprecated and will be removed in a future version, please use 'YE' instead.\n",
      "  returns = returns.resample(\"A\").apply(_stats.comp)\n",
      "/opt/hostedtoolcache/Python/3.12.3/x64/lib/python3.12/site-packages/quantstats/_plotting/wrappers.py:568: FutureWarning: 'A' is deprecated and will be removed in a future version, please use 'YE' instead.\n",
      "  returns = returns.resample(\"A\").last()\n",
      "/opt/hostedtoolcache/Python/3.12.3/x64/lib/python3.12/site-packages/quantstats/_plotting/core.py:433: FutureWarning: 'M' is deprecated and will be removed in a future version, please use 'ME' instead.\n",
      "  .resample(resample)\n",
      "/opt/hostedtoolcache/Python/3.12.3/x64/lib/python3.12/site-packages/quantstats/_plotting/core.py:435: FutureWarning: 'M' is deprecated and will be removed in a future version, please use 'ME' instead.\n",
      "  .resample(resample)\n",
      "/opt/hostedtoolcache/Python/3.12.3/x64/lib/python3.12/site-packages/quantstats/_plotting/core.py:440: FutureWarning: 'M' is deprecated and will be removed in a future version, please use 'ME' instead.\n",
      "  returns.fillna(0).resample(resample).apply(apply_fnc).resample(resample).last()\n",
      "/opt/hostedtoolcache/Python/3.12.3/x64/lib/python3.12/site-packages/quantstats/_plotting/core.py:1018: FutureWarning: 'M' is deprecated and will be removed in a future version, please use 'ME' instead.\n",
      "  port[\"Monthly\"] = port[\"Daily\"].resample(\"M\").apply(apply_fnc)\n",
      "/opt/hostedtoolcache/Python/3.12.3/x64/lib/python3.12/site-packages/quantstats/_plotting/core.py:1021: FutureWarning: 'Q' is deprecated and will be removed in a future version, please use 'QE' instead.\n",
      "  port[\"Quarterly\"] = port[\"Daily\"].resample(\"Q\").apply(apply_fnc)\n",
      "/opt/hostedtoolcache/Python/3.12.3/x64/lib/python3.12/site-packages/quantstats/_plotting/core.py:1024: FutureWarning: 'A' is deprecated and will be removed in a future version, please use 'YE' instead.\n",
      "  port[\"Yearly\"] = port[\"Daily\"].resample(\"A\").apply(apply_fnc)\n"
     ]
    }
   ],
   "source": [
    "portfolio_return = portfolio_return.resample('D').sum()  # Example of valid aggregation\n",
    "portfolio_return.name = \"Weighted Portfolio\"\n",
    "\n",
    "# Generate Report\n",
    "qs.reports.html(\n",
    "    portfolio_return,\n",
    "    benchmark_returns,\n",
    "    rf=risk_free_rate,\n",
    "    figsize=(8, 5),\n",
    "    # output=f'portfolio_vs_{benchmark}.html',\n",
    "    output=f'portfolio_vs_benchmark-{datetime.date(end_date)}.html',\n",
    "    title=f'Portfolio vs {benchmark} (Benchmark)',\n",
    "    benchmark_title=f'{benchmark}',\n",
    "    download_filename=f'portfolio_vs_{benchmark}.html'\n",
    ")\n",
    "\n",
    "qs.reports.full(\n",
    "    portfolio_return, \n",
    "    benchmark_returns,\n",
    "    rf=risk_free_rate, \n",
    "    figsize=(8, 5), \n",
    "    title=f'Portfolio vs {benchmark}',\n",
    "    benchmark_title=f'{benchmark}') "
   ]
  },
  {
   "cell_type": "markdown",
   "id": "fc233166",
   "metadata": {},
   "source": [
    "#### Portfolio (Weighted) vs Portolio (Equally-Weighted)"
   ]
  },
  {
   "cell_type": "code",
   "execution_count": 10,
   "id": "ba5f845c",
   "metadata": {
    "execution": {
     "iopub.execute_input": "2025-05-26T01:35:59.215750Z",
     "iopub.status.busy": "2025-05-26T01:35:59.215519Z",
     "iopub.status.idle": "2025-05-26T01:36:07.081574Z",
     "shell.execute_reply": "2025-05-26T01:36:07.080963Z"
    }
   },
   "outputs": [
    {
     "name": "stderr",
     "output_type": "stream",
     "text": [
      "/opt/hostedtoolcache/Python/3.12.3/x64/lib/python3.12/site-packages/numpy/core/fromnumeric.py:86: FutureWarning: The behavior of DataFrame.prod with axis=None is deprecated, in a future version this will reduce over both axes and return a scalar. To retain the old behavior, pass axis=0 (or do not pass axis)\n",
      "  return reduction(axis=axis, out=out, **passkwargs)\n",
      "/opt/hostedtoolcache/Python/3.12.3/x64/lib/python3.12/site-packages/numpy/core/fromnumeric.py:86: FutureWarning: The behavior of DataFrame.prod with axis=None is deprecated, in a future version this will reduce over both axes and return a scalar. To retain the old behavior, pass axis=0 (or do not pass axis)\n",
      "  return reduction(axis=axis, out=out, **passkwargs)\n",
      "/opt/hostedtoolcache/Python/3.12.3/x64/lib/python3.12/site-packages/numpy/core/fromnumeric.py:86: FutureWarning: The behavior of DataFrame.prod with axis=None is deprecated, in a future version this will reduce over both axes and return a scalar. To retain the old behavior, pass axis=0 (or do not pass axis)\n",
      "  return reduction(axis=axis, out=out, **passkwargs)\n",
      "/opt/hostedtoolcache/Python/3.12.3/x64/lib/python3.12/site-packages/quantstats/stats.py:510: FutureWarning: 'M' is deprecated and will be removed in a future version, please use 'ME' instead.\n",
      "  returns = _utils._prepare_returns(returns, rf).resample(resolution).sum()\n",
      "/opt/hostedtoolcache/Python/3.12.3/x64/lib/python3.12/site-packages/quantstats/_plotting/wrappers.py:555: FutureWarning: 'A' is deprecated and will be removed in a future version, please use 'YE' instead.\n",
      "  .resample(\"A\")\n",
      "/opt/hostedtoolcache/Python/3.12.3/x64/lib/python3.12/site-packages/quantstats/_plotting/wrappers.py:557: FutureWarning: 'A' is deprecated and will be removed in a future version, please use 'YE' instead.\n",
      "  .resample(\"A\")\n",
      "/opt/hostedtoolcache/Python/3.12.3/x64/lib/python3.12/site-packages/quantstats/_plotting/wrappers.py:565: FutureWarning: 'A' is deprecated and will be removed in a future version, please use 'YE' instead.\n",
      "  returns = returns.resample(\"A\").apply(_stats.comp)\n",
      "/opt/hostedtoolcache/Python/3.12.3/x64/lib/python3.12/site-packages/quantstats/_plotting/wrappers.py:568: FutureWarning: 'A' is deprecated and will be removed in a future version, please use 'YE' instead.\n",
      "  returns = returns.resample(\"A\").last()\n",
      "/opt/hostedtoolcache/Python/3.12.3/x64/lib/python3.12/site-packages/quantstats/_plotting/core.py:433: FutureWarning: 'M' is deprecated and will be removed in a future version, please use 'ME' instead.\n",
      "  .resample(resample)\n",
      "/opt/hostedtoolcache/Python/3.12.3/x64/lib/python3.12/site-packages/quantstats/_plotting/core.py:435: FutureWarning: 'M' is deprecated and will be removed in a future version, please use 'ME' instead.\n",
      "  .resample(resample)\n",
      "/opt/hostedtoolcache/Python/3.12.3/x64/lib/python3.12/site-packages/quantstats/_plotting/core.py:440: FutureWarning: 'M' is deprecated and will be removed in a future version, please use 'ME' instead.\n",
      "  returns.fillna(0).resample(resample).apply(apply_fnc).resample(resample).last()\n",
      "/opt/hostedtoolcache/Python/3.12.3/x64/lib/python3.12/site-packages/quantstats/_plotting/core.py:1018: FutureWarning: 'M' is deprecated and will be removed in a future version, please use 'ME' instead.\n",
      "  port[\"Monthly\"] = port[\"Daily\"].resample(\"M\").apply(apply_fnc)\n",
      "/opt/hostedtoolcache/Python/3.12.3/x64/lib/python3.12/site-packages/quantstats/_plotting/core.py:1021: FutureWarning: 'Q' is deprecated and will be removed in a future version, please use 'QE' instead.\n",
      "  port[\"Quarterly\"] = port[\"Daily\"].resample(\"Q\").apply(apply_fnc)\n",
      "/opt/hostedtoolcache/Python/3.12.3/x64/lib/python3.12/site-packages/quantstats/_plotting/core.py:1024: FutureWarning: 'A' is deprecated and will be removed in a future version, please use 'YE' instead.\n",
      "  port[\"Yearly\"] = port[\"Daily\"].resample(\"A\").apply(apply_fnc)\n"
     ]
    },
    {
     "name": "stdout",
     "output_type": "stream",
     "text": [
      "Added download button and removed QuantStats attribution from portfolio_vs_equal_weight-2025-05-23.html\n"
     ]
    },
    {
     "data": {
      "text/html": [
       "<h4>Performance Metrics</h4>"
      ],
      "text/plain": [
       "<IPython.core.display.HTML object>"
      ]
     },
     "metadata": {},
     "output_type": "display_data"
    },
    {
     "name": "stderr",
     "output_type": "stream",
     "text": [
      "/opt/hostedtoolcache/Python/3.12.3/x64/lib/python3.12/site-packages/numpy/core/fromnumeric.py:86: FutureWarning: The behavior of DataFrame.prod with axis=None is deprecated, in a future version this will reduce over both axes and return a scalar. To retain the old behavior, pass axis=0 (or do not pass axis)\n",
      "  return reduction(axis=axis, out=out, **passkwargs)\n",
      "/opt/hostedtoolcache/Python/3.12.3/x64/lib/python3.12/site-packages/numpy/core/fromnumeric.py:86: FutureWarning: The behavior of DataFrame.prod with axis=None is deprecated, in a future version this will reduce over both axes and return a scalar. To retain the old behavior, pass axis=0 (or do not pass axis)\n",
      "  return reduction(axis=axis, out=out, **passkwargs)\n",
      "/opt/hostedtoolcache/Python/3.12.3/x64/lib/python3.12/site-packages/numpy/core/fromnumeric.py:86: FutureWarning: The behavior of DataFrame.prod with axis=None is deprecated, in a future version this will reduce over both axes and return a scalar. To retain the old behavior, pass axis=0 (or do not pass axis)\n",
      "  return reduction(axis=axis, out=out, **passkwargs)\n",
      "/opt/hostedtoolcache/Python/3.12.3/x64/lib/python3.12/site-packages/quantstats/stats.py:510: FutureWarning: 'M' is deprecated and will be removed in a future version, please use 'ME' instead.\n",
      "  returns = _utils._prepare_returns(returns, rf).resample(resolution).sum()\n"
     ]
    },
    {
     "name": "stdout",
     "output_type": "stream",
     "text": [
      "                           Equal Weight Portfolio    Strategy\n",
      "-------------------------  ------------------------  ----------\n",
      "Start Period               2020-05-27                2020-05-27\n",
      "End Period                 2025-05-22                2025-05-22\n",
      "Risk-Free Rate             4.23%                     4.23%\n",
      "Time in Market             69.0%                     69.0%\n",
      "\n",
      "Cumulative Return          218.23%                   301.31%\n",
      "CAGR﹪                     17.37%                    21.2%\n",
      "\n",
      "Sharpe                     0.88                      0.98\n",
      "Prob. Sharpe Ratio         89.74%                    92.55%\n",
      "Smart Sharpe               0.85                      0.95\n",
      "Sortino                    1.25                      1.41\n",
      "Smart Sortino              1.21                      1.37\n",
      "Sortino/√2                 0.88                      1.0\n",
      "Smart Sortino/√2           0.86                      0.97\n",
      "Omega                      1.22                      1.22\n",
      "\n",
      "Max Drawdown               -14.26%                   -18.21%\n",
      "Longest DD Days            126                       542\n",
      "Volatility (ann.)          14.81%                    16.87%\n",
      "R^2                        0.88                      0.88\n",
      "Information Ratio          0.04                      0.04\n",
      "Calmar                     1.22                      1.16\n",
      "Skew                       -0.62                     -0.64\n",
      "Kurtosis                   8.85                      8.66\n",
      "\n",
      "Expected Daily %           0.06%                     0.08%\n",
      "Expected Monthly %         1.92%                     2.3%\n",
      "Expected Yearly %          21.28%                    26.06%\n",
      "Kelly Criterion            10.52%                    11.57%\n",
      "Risk of Ruin               0.0%                      0.0%\n",
      "Daily Value-at-Risk        -1.47%                    -1.67%\n",
      "Expected Shortfall (cVaR)  -1.47%                    -1.67%\n",
      "\n",
      "Max Consecutive Wins       5                         5\n",
      "Max Consecutive Losses     5                         5\n",
      "Gain/Pain Ratio            0.27                      0.29\n",
      "Gain/Pain (1M)             1.77                      1.99\n",
      "\n",
      "Payoff Ratio               1.0                       1.01\n",
      "Profit Factor              1.27                      1.29\n",
      "Common Sense Ratio         1.42                      1.53\n",
      "CPC Index                  0.7                       0.72\n",
      "Tail Ratio                 1.12                      1.19\n",
      "Outlier Win Ratio          5.95                      5.15\n",
      "Outlier Loss Ratio         3.4                       2.93\n",
      "\n",
      "MTD                        3.45%                     4.22%\n",
      "3M                         1.81%                     4.67%\n",
      "6M                         7.7%                      11.93%\n",
      "YTD                        15.5%                     21.13%\n",
      "1Y                         29.91%                    35.04%\n",
      "3Y (ann.)                  21.25%                    29.21%\n",
      "5Y (ann.)                  16.39%                    20.34%\n",
      "10Y (ann.)                 17.37%                    21.2%\n",
      "All-time (ann.)            17.37%                    21.2%\n",
      "\n",
      "Best Day                   6.21%                     6.26%\n",
      "Worst Day                  -8.64%                    -10.28%\n",
      "Best Month                 14.96%                    15.48%\n",
      "Worst Month                -8.71%                    -10.44%\n",
      "Best Year                  37.94%                    48.29%\n",
      "Worst Year                 2.49%                     5.04%\n",
      "\n",
      "Avg. Drawdown              -2.24%                    -2.24%\n",
      "Avg. Drawdown Days         15                        18\n",
      "Recovery Factor            8.68                      8.2\n",
      "Ulcer Index                0.04                      0.05\n",
      "Serenity Index             3.55                      2.75\n",
      "\n",
      "Avg. Up Month              4.8%                      5.63%\n",
      "Avg. Down Month            -4.37%                    -4.58%\n",
      "Win Days %                 55.22%                    55.62%\n",
      "Win Month %                70.49%                    68.85%\n",
      "Win Quarter %              76.19%                    80.95%\n",
      "Win Year %                 100.0%                    100.0%\n",
      "\n",
      "Beta                       -                         1.07\n",
      "Alpha                      -                         0.02\n",
      "Correlation                -                         93.98%\n",
      "Treynor Ratio              -                         277.53%\n"
     ]
    },
    {
     "data": {
      "text/plain": [
       "None"
      ]
     },
     "metadata": {},
     "output_type": "display_data"
    },
    {
     "data": {
      "text/html": [
       "<h4 style=\"margin-bottom:20px\">Worst 5 Drawdowns</h4>"
      ],
      "text/plain": [
       "<IPython.core.display.HTML object>"
      ]
     },
     "metadata": {},
     "output_type": "display_data"
    },
    {
     "data": {
      "text/html": [
       "<div>\n",
       "<style scoped>\n",
       "    .dataframe tbody tr th:only-of-type {\n",
       "        vertical-align: middle;\n",
       "    }\n",
       "\n",
       "    .dataframe tbody tr th {\n",
       "        vertical-align: top;\n",
       "    }\n",
       "\n",
       "    .dataframe thead th {\n",
       "        text-align: right;\n",
       "    }\n",
       "</style>\n",
       "<table border=\"1\" class=\"dataframe\">\n",
       "  <thead>\n",
       "    <tr style=\"text-align: right;\">\n",
       "      <th></th>\n",
       "      <th>Start</th>\n",
       "      <th>Valley</th>\n",
       "      <th>End</th>\n",
       "      <th>Days</th>\n",
       "      <th>Max Drawdown</th>\n",
       "      <th>99% Max Drawdown</th>\n",
       "    </tr>\n",
       "  </thead>\n",
       "  <tbody>\n",
       "    <tr>\n",
       "      <th>1</th>\n",
       "      <td>2021-05-17</td>\n",
       "      <td>2022-07-14</td>\n",
       "      <td>2022-11-09</td>\n",
       "      <td>542</td>\n",
       "      <td>-18.205021</td>\n",
       "      <td>-17.048514</td>\n",
       "    </tr>\n",
       "    <tr>\n",
       "      <th>2</th>\n",
       "      <td>2025-03-03</td>\n",
       "      <td>2025-04-07</td>\n",
       "      <td>2025-05-14</td>\n",
       "      <td>73</td>\n",
       "      <td>-13.425986</td>\n",
       "      <td>-13.003787</td>\n",
       "    </tr>\n",
       "    <tr>\n",
       "      <th>3</th>\n",
       "      <td>2020-06-09</td>\n",
       "      <td>2020-06-26</td>\n",
       "      <td>2020-10-08</td>\n",
       "      <td>122</td>\n",
       "      <td>-11.804142</td>\n",
       "      <td>-11.466772</td>\n",
       "    </tr>\n",
       "    <tr>\n",
       "      <th>4</th>\n",
       "      <td>2024-11-27</td>\n",
       "      <td>2024-12-18</td>\n",
       "      <td>2025-01-29</td>\n",
       "      <td>64</td>\n",
       "      <td>-11.103602</td>\n",
       "      <td>-10.365327</td>\n",
       "    </tr>\n",
       "    <tr>\n",
       "      <th>5</th>\n",
       "      <td>2021-01-13</td>\n",
       "      <td>2021-01-29</td>\n",
       "      <td>2021-03-02</td>\n",
       "      <td>49</td>\n",
       "      <td>-7.624665</td>\n",
       "      <td>-7.500999</td>\n",
       "    </tr>\n",
       "  </tbody>\n",
       "</table>\n",
       "</div>"
      ],
      "text/plain": [
       "        Start      Valley         End  Days  Max Drawdown  99% Max Drawdown\n",
       "1  2021-05-17  2022-07-14  2022-11-09   542    -18.205021        -17.048514\n",
       "2  2025-03-03  2025-04-07  2025-05-14    73    -13.425986        -13.003787\n",
       "3  2020-06-09  2020-06-26  2020-10-08   122    -11.804142        -11.466772\n",
       "4  2024-11-27  2024-12-18  2025-01-29    64    -11.103602        -10.365327\n",
       "5  2021-01-13  2021-01-29  2021-03-02    49     -7.624665         -7.500999"
      ]
     },
     "metadata": {},
     "output_type": "display_data"
    },
    {
     "data": {
      "text/html": [
       "<h4>Strategy Visualization</h4>"
      ],
      "text/plain": [
       "<IPython.core.display.HTML object>"
      ]
     },
     "metadata": {},
     "output_type": "display_data"
    },
    {
     "name": "stderr",
     "output_type": "stream",
     "text": [
      "/opt/hostedtoolcache/Python/3.12.3/x64/lib/python3.12/site-packages/quantstats/_plotting/wrappers.py:555: FutureWarning: 'A' is deprecated and will be removed in a future version, please use 'YE' instead.\n",
      "  .resample(\"A\")\n",
      "/opt/hostedtoolcache/Python/3.12.3/x64/lib/python3.12/site-packages/quantstats/_plotting/wrappers.py:557: FutureWarning: 'A' is deprecated and will be removed in a future version, please use 'YE' instead.\n",
      "  .resample(\"A\")\n",
      "/opt/hostedtoolcache/Python/3.12.3/x64/lib/python3.12/site-packages/quantstats/_plotting/wrappers.py:565: FutureWarning: 'A' is deprecated and will be removed in a future version, please use 'YE' instead.\n",
      "  returns = returns.resample(\"A\").apply(_stats.comp)\n",
      "/opt/hostedtoolcache/Python/3.12.3/x64/lib/python3.12/site-packages/quantstats/_plotting/wrappers.py:568: FutureWarning: 'A' is deprecated and will be removed in a future version, please use 'YE' instead.\n",
      "  returns = returns.resample(\"A\").last()\n",
      "/opt/hostedtoolcache/Python/3.12.3/x64/lib/python3.12/site-packages/quantstats/_plotting/core.py:433: FutureWarning: 'M' is deprecated and will be removed in a future version, please use 'ME' instead.\n",
      "  .resample(resample)\n",
      "/opt/hostedtoolcache/Python/3.12.3/x64/lib/python3.12/site-packages/quantstats/_plotting/core.py:435: FutureWarning: 'M' is deprecated and will be removed in a future version, please use 'ME' instead.\n",
      "  .resample(resample)\n",
      "/opt/hostedtoolcache/Python/3.12.3/x64/lib/python3.12/site-packages/quantstats/_plotting/core.py:440: FutureWarning: 'M' is deprecated and will be removed in a future version, please use 'ME' instead.\n",
      "  returns.fillna(0).resample(resample).apply(apply_fnc).resample(resample).last()\n",
      "/opt/hostedtoolcache/Python/3.12.3/x64/lib/python3.12/site-packages/quantstats/_plotting/core.py:1018: FutureWarning: 'M' is deprecated and will be removed in a future version, please use 'ME' instead.\n",
      "  port[\"Monthly\"] = port[\"Daily\"].resample(\"M\").apply(apply_fnc)\n",
      "/opt/hostedtoolcache/Python/3.12.3/x64/lib/python3.12/site-packages/quantstats/_plotting/core.py:1021: FutureWarning: 'Q' is deprecated and will be removed in a future version, please use 'QE' instead.\n",
      "  port[\"Quarterly\"] = port[\"Daily\"].resample(\"Q\").apply(apply_fnc)\n",
      "/opt/hostedtoolcache/Python/3.12.3/x64/lib/python3.12/site-packages/quantstats/_plotting/core.py:1024: FutureWarning: 'A' is deprecated and will be removed in a future version, please use 'YE' instead.\n",
      "  port[\"Yearly\"] = port[\"Daily\"].resample(\"A\").apply(apply_fnc)\n"
     ]
    }
   ],
   "source": [
    "# Ensure equal_weight_return and portfolio_return are properly aggregated if resampled\n",
    "equal_weight_return = equal_weight_return.resample('D').sum() if equal_weight_return.index.freq is None else equal_weight_return\n",
    "portfolio_return = portfolio_return.resample('D').sum() if portfolio_return.index.freq is None else portfolio_return\n",
    "\n",
    "# Set the name for the equal weight portfolio\n",
    "equal_weight_return.name = \"Equal Weight Portfolio\"\n",
    "\n",
    "# Generate Report\n",
    "qs.reports.html(\n",
    "    portfolio_return,\n",
    "    equal_weight_return,\n",
    "    rf=risk_free_rate,\n",
    "    figsize=(8, 5),\n",
    "    output=f'portfolio_vs_equal_weight-{datetime.date(end_date)}.html',\n",
    "    title='Portfolio (Weighted) vs Portolio (Equally-Weighted)',\n",
    "    benchmark_title=\"Equal Weight Portfolio\",\n",
    "    download_filename=\"portfolio_vs_equal_weight.html\" \n",
    ")\n",
    "\n",
    "qs.reports.full(\n",
    "    portfolio_return, \n",
    "    equal_weight_return,\n",
    "    rf=risk_free_rate, \n",
    "    figsize=(8, 5), \n",
    "    title='Portfolio vs Equal Weight',\n",
    "    benchmark_title=\"Equal Weight Portfolio\",\n",
    "    ) "
   ]
  }
 ],
 "metadata": {
  "kernelspec": {
   "display_name": ".venv",
   "language": "python",
   "name": "python3"
  },
  "language_info": {
   "codemirror_mode": {
    "name": "ipython",
    "version": 3
   },
   "file_extension": ".py",
   "mimetype": "text/x-python",
   "name": "python",
   "nbconvert_exporter": "python",
   "pygments_lexer": "ipython3",
   "version": "3.12.3"
  }
 },
 "nbformat": 4,
 "nbformat_minor": 5
}
