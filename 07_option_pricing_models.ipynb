{
 "cells": [
  {
   "cell_type": "markdown",
   "id": "12c3ba63",
   "metadata": {},
   "source": [
    "# Option Pricing Models\n",
    "Option pricing models are mathematical models used to determine the fair value of options. These models take into account various factors such as the underlying asset's price, strike price, time to expiration, risk-free interest rate, and volatility. The most commonly used option pricing models include:"
   ]
  },
  {
   "cell_type": "markdown",
   "id": "de3fbcc6",
   "metadata": {},
   "source": [
    "### Black-Scholes Model\n",
    "The Black-Scholes model is a mathematical model used to calculate the theoretical price of European-style options. It assumes that the stock price follows a geometric Brownian motion with constant volatility and interest rate.\n",
    "```tex\n",
    "C = S_0 N(d_1) - X e^{-rT} N(d_2)\n",
    "```\n",
    "Where:\n",
    "- \\( C \\) = Call option price\n",
    "- \\( S_0 \\) = Current stock price\n",
    "- \\( X \\) = Strike price\n",
    "- \\( r \\) = Risk-free interest rate\n",
    "- \\( T \\) = Time to expiration (in years)\n",
    "- \\( N(d) \\) = Cumulative distribution function of the standard normal distribution\n",
    "- \\( d_1 = \\frac{\\ln(S_0/X) + (r + \\sigma^2/2)T}{\\sigma \\sqrt{T}} \\)\n",
    "- \\( d_2 = d_1 - \\sigma \\sqrt{T} \\)\n",
    "- \\( \\sigma \\) = Volatility of the stock"
   ]
  },
  {
   "cell_type": "code",
   "execution_count": null,
   "id": "e16b6267",
   "metadata": {},
   "outputs": [],
   "source": [
    "from scipy.stats import norm\n",
    "from math import *\n",
    "\n",
    "# Cumulative normal distribution\n",
    "def CND(X):\n",
    "    return norm.cdf(X)\n",
    "\n",
    "# Black Sholes Function\n",
    "def BlackScholes(CallPutFlag,S,K,t,r,s):\n",
    "    \"\"\"\n",
    "    S = Current stock price\n",
    "    t = Time until option exercise (years to maturity)\n",
    "    K = Option striking price\n",
    "    r = Risk-free interest rate\n",
    "    N = Cumulative standard normal distribution\n",
    "    e = Exponential term\n",
    "    s = St. Deviation (volatility)\n",
    "    Ln = NaturalLog\n",
    "    \"\"\"\n",
    "    d1 = (log(S/K) + (r + (s ** 2)/2) * t)/(s * sqrt(t))\n",
    "    d2 = d1 - s * sqrt(t)\n",
    "\n",
    "    if CallPutFlag=='c':\n",
    "        return S * CND(d1) - K * exp(-r * t) * CND(d2) # call option\n",
    "    else:\n",
    "        return K * exp(-r * t) * CND(-d2) - S * CND(-d1) # put option "
   ]
  },
  {
   "cell_type": "markdown",
   "id": "1bebe44f",
   "metadata": {},
   "source": [
    "### Binomial Model\n",
    "The binomial model is a discrete-time model for valuing options. It uses a binomial tree to represent possible paths the stock price can take over time.\n",
    "\n",
    "```tex\n",
    "C = \\frac{1}{(1 + r)^T} \\sum_{i=0}^{N} C_i p^i (1-p)^{N-i}\n",
    "```\n",
    "\n",
    "Where:\n",
    "- \\( C_i \\) is the option price at node \\( i \\)\n",
    "- \\( p \\) is the probability of an upward movement\n",
    "- \\( N \\) is the total number of steps in the binomial tree\n",
    "- \\( r \\) is the risk-free interest rate\n",
    "- \\( T \\) is the time to expiration"
   ]
  },
  {
   "cell_type": "code",
   "execution_count": null,
   "id": "acd9af24",
   "metadata": {},
   "outputs": [],
   "source": [
    "from math import *\n",
    "\n",
    "def Binomial(S,K,u,d,r,T): # One-Step Binomial Pricing\n",
    "    \"\"\"\n",
    "    S = Current stock price\n",
    "    K = Option striking price\n",
    "    u = Size of magnitude of up-jump / upstep \n",
    "    d = Size of magnitude of down-jump / downstep\n",
    "    T = Time until option excercise (years to maturity)\n",
    "    r = Risk-free interest rate\n",
    "\n",
    "    * u, d can be calculated by volatility assumption\n",
    "    \"\"\"\n",
    "    \n",
    "    discount = exp(-r * T)\n",
    "    delta_s = 1 / (S * u - S * d)\n",
    "    portfolio = (S * d) * delta_s\n",
    "    pv = portfolio * discount # portfolio present value\n",
    "    option_price = (S * delta_s) - pv\n",
    "    return option_price"
   ]
  },
  {
   "cell_type": "markdown",
   "id": "c38eeabd",
   "metadata": {},
   "source": [
    "### Greeks and Greeks\n",
    "The Greeks are measures of the sensitivity of the option price to various factors. They include:\n",
    "- Delta (\\( \\Delta \\)): Sensitivity to changes in the underlying asset's price.\n",
    "- Gamma (\\( \\Gamma \\)): Sensitivity of delta to changes in the underlying asset's price.\n",
    "- Vega (\\( \\nu \\)): Sensitivity to changes in volatility.\n",
    "- Theta (\\( \\Theta \\)): Sensitivity to the passage of time.\n",
    "- Rho (\\( \\rho \\)): Sensitivity to changes in interest rates."
   ]
  },
  {
   "cell_type": "markdown",
   "id": "6dacb956",
   "metadata": {},
   "source": [
    "### Implied Volatility\n",
    "Implied volatility is the volatility value that, when input into an option pricing model, yields the market price of the option. It is often used as a measure of market expectations for future volatility.\n",
    "Implied volatility can be derived from the Black-Scholes model by solving for \\( \\sigma \\) given the market price of the option.\n"
   ]
  }
 ],
 "metadata": {
  "language_info": {
   "name": "python"
  }
 },
 "nbformat": 4,
 "nbformat_minor": 5
}
