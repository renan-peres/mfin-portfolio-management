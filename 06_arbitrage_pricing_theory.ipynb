{
 "cells": [
  {
   "cell_type": "markdown",
   "id": "739d1c44",
   "metadata": {},
   "source": [
    "# Arbitrage Pricing Theory (APT)\n",
    "Arbitrage Pricing Theory is a multi-factor model that explains the relationship between the expected return of an asset and its risk factors. It is based on the idea that arbitrage opportunities will be exploited until they no longer exist, leading to a linear relationship between expected returns and risk factors.\n",
    "```tex\n",
    "E(R_i) = R_f + \\beta_1 (E(R_1) - R_f) + \\beta_2 (E(R_2) - R_f) + ... + \\beta_n (E(R_n) - R_f)\n",
    "```\n",
    "Where:\n",
    "- \\( E(R_i) \\) = Expected return of asset \\( i \\)\n",
    "- \\( R_f \\) = Risk-free rate\n",
    "- \\( \\beta_n \\) = Sensitivity of asset \\( i \\) to factor \\( n \\)\n",
    "- \\( E(R_n) \\) = Expected return of factor \\( n \\)\n",
    "- \\( n \\) = Number of risk factors"
   ]
  }
 ],
 "metadata": {
  "language_info": {
   "name": "python"
  }
 },
 "nbformat": 4,
 "nbformat_minor": 5
}
