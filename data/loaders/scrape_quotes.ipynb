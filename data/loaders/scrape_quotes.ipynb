{
 "cells": [
  {
   "cell_type": "markdown",
   "id": "8c508d9c",
   "metadata": {},
   "source": [
    "## Extract Historical Stock Data from Yahoo Finance (openBB)"
   ]
  },
  {
   "cell_type": "markdown",
   "id": "c32963f4",
   "metadata": {},
   "source": [
    "### Import Libraries"
   ]
  },
  {
   "cell_type": "code",
   "execution_count": 1,
   "id": "637fa693",
   "metadata": {
    "execution": {
     "iopub.execute_input": "2025-05-20T23:22:05.301400Z",
     "iopub.status.busy": "2025-05-20T23:22:05.301004Z",
     "iopub.status.idle": "2025-05-20T23:22:11.752082Z",
     "shell.execute_reply": "2025-05-20T23:22:11.751442Z"
    }
   },
   "outputs": [
    {
     "name": "stdout",
     "output_type": "stream",
     "text": [
      "Extensions to add: federal_reserve@1.4.3, yfinance@1.4.6\n",
      "Extensions to remove: federal_reserve@1.4.2, yfinance@1.4.3\n",
      "\n",
      "Building...\n"
     ]
    }
   ],
   "source": [
    "import sys\n",
    "import os\n",
    "current_dir = os.path.abspath(os.path.join(os.getcwd(), '../..', 'py')) \n",
    "sys.path.append(current_dir)\n",
    "from fetch_price_history import fetch_price_history_openbb      \n",
    "\n",
    "import pandas as pd\n",
    "import logging\n",
    "from dotenv import load_dotenv\n",
    "\n",
    "load_dotenv()\n",
    "\n",
    "from openbb import obb\n",
    "import polars as pl\n",
    "obb.user.credentials.fmp_api_key = os.getenv(\"FMP_API_KEY\")"
   ]
  },
  {
   "cell_type": "markdown",
   "id": "ec799a43",
   "metadata": {},
   "source": [
    "### Define Variables"
   ]
  },
  {
   "cell_type": "code",
   "execution_count": 2,
   "id": "52bd232c",
   "metadata": {
    "execution": {
     "iopub.execute_input": "2025-05-20T23:22:11.754103Z",
     "iopub.status.busy": "2025-05-20T23:22:11.753914Z",
     "iopub.status.idle": "2025-05-20T23:22:11.758413Z",
     "shell.execute_reply": "2025-05-20T23:22:11.757943Z"
    }
   },
   "outputs": [
    {
     "name": "stdout",
     "output_type": "stream",
     "text": [
      "Date Range: 2015-05-22 to 2025-05-19\n",
      "Time span: 3650 days (10.00 years)\n"
     ]
    }
   ],
   "source": [
    "from pandas.tseries.offsets import BDay\n",
    "from datetime import datetime, timedelta\n",
    "\n",
    "# Time Range adjustment\n",
    "end_date = (datetime.today() - BDay(1)).to_pydatetime()  # Last business day\n",
    "start_date = end_date - timedelta(days=10*365)  # 10 years of data\n",
    "\n",
    "# Convert datetime objects to Unix timestamps (seconds since Jan 1, 1970)\n",
    "start_timestamp = int(start_date.timestamp())\n",
    "end_timestamp = int(end_date.timestamp())\n",
    "\n",
    "# Print the date range\n",
    "days_difference = (end_date - start_date).days\n",
    "print(f\"Date Range: {start_date.strftime('%Y-%m-%d')} to {end_date.strftime('%Y-%m-%d')}\")\n",
    "print(f\"Time span: {days_difference} days ({days_difference/365:.2f} years)\")"
   ]
  },
  {
   "cell_type": "markdown",
   "id": "a32027f8",
   "metadata": {},
   "source": [
    "### Stocks"
   ]
  },
  {
   "cell_type": "code",
   "execution_count": 3,
   "id": "b81532ff",
   "metadata": {
    "execution": {
     "iopub.execute_input": "2025-05-20T23:22:11.759997Z",
     "iopub.status.busy": "2025-05-20T23:22:11.759819Z",
     "iopub.status.idle": "2025-05-20T23:22:13.779268Z",
     "shell.execute_reply": "2025-05-20T23:22:13.778637Z"
    }
   },
   "outputs": [
    {
     "name": "stdout",
     "output_type": "stream",
     "text": [
      "📂 Reading existing data from: ../datasets/daily_stock_quotes.csv\n",
      "🗓 Existing data: 2015-05-19 to 2025-05-19\n",
      "✅ Found 500 tickers, ❌ Missing 3 tickers\n",
      "⏳ Fetching data using provider: fmp...\n",
      "Will fetch 3 missing tickers from 2015-05-19 to 2025-05-19\n",
      "Using FMP batch processing for 503 tickers\n",
      "Fetching history for 3 missing tickers...\n",
      "Processing attempt 1/2\n",
      "Fetching batch of 3 tickers...\n",
      "Retrieved data for 3 of 3 missing tickers\n",
      "⚠️ Column 'GEV' missing 216 values (42.9%) in recent data\n",
      "⚠️ Column 'SOLV' missing 215 values (42.7%) in recent data\n",
      "⚠️ Column 'VLTO' missing 91 values (18.1%) in recent data\n",
      "🔄 Fetching missing recent data for 3 tickers...\n",
      "Processing attempt 1/2\n",
      "Fetching batch of 3 tickers...\n",
      "✅ Updated missing recent data for 3 tickers\n",
      "⚠️ Removing 3 columns with < 20.0% data or < 5 values:\n",
      "   GEV (287 values, 11.41%), SOLV (288 values, 11.45%), VLTO (412 values, 16.38%)\n",
      "💾 Saved updated data to ../datasets/daily_stock_quotes.csv\n"
     ]
    }
   ],
   "source": [
    "tickers_file = '../tickers_sp_500.txt'\n",
    "with open(tickers_file, 'r') as f:\n",
    "    tickers = [line.strip() for line in f if line.strip()]\n",
    "\n",
    "# Replace '.' with '-' for Yahoo Finance compatibility\n",
    "tickers = [t.replace('.', '-') for t in tickers]\n",
    "tickers = list(dict.fromkeys(tickers))  # Remove duplicates\n",
    "\n",
    "###########################################################\n",
    "# DAILY DATA\n",
    "###########################################################\n",
    "\n",
    "daily_output = '../datasets/daily_stock_quotes.csv'\n",
    "\n",
    "df_daily, df_daily_failed = fetch_price_history_openbb(\n",
    "    tickers, \n",
    "    start_date, \n",
    "    end_date,\n",
    "    data_file=daily_output,\n",
    "    interval='1d',                 # options: ['1d', '1w', '1M']\n",
    "    provider='fmp',                # options: ['fmp', 'yfinance']\n",
    "    row_threshold_pct=0.05,        # Filter out rows with fewer than 5% of columns containing values\n",
    "    column_threshold=0.2,          # Filter out columns with less than 20% of values\n",
    "    validate_recent_data=True,     # Enable recent data validation\n",
    "    recent_data_percentage=0.2     # Check the last 20% of rows\n",
    ")\n",
    "\n",
    "###########################################################\n",
    "# MONTHLY DATA\n",
    "###########################################################\n",
    "\n",
    "monthly_output = '../datasets/monthly_stock_quotes.csv'\n",
    "\n",
    "df = (df_daily.set_index(pd.to_datetime(df_daily.pop('Date')))\n",
    "      if 'Date' in df_daily.columns else df_daily.copy())\n",
    "df.index = pd.to_datetime(df.index)              \n",
    "(df.resample('MS').last()\n",
    "   .reset_index()\n",
    "   .to_csv(monthly_output, index=False))"
   ]
  },
  {
   "cell_type": "markdown",
   "id": "ba3f7ba3",
   "metadata": {},
   "source": [
    "### Bonds"
   ]
  },
  {
   "cell_type": "code",
   "execution_count": 4,
   "id": "e4ef97ee",
   "metadata": {
    "execution": {
     "iopub.execute_input": "2025-05-20T23:22:13.781288Z",
     "iopub.status.busy": "2025-05-20T23:22:13.780926Z",
     "iopub.status.idle": "2025-05-20T23:22:16.581223Z",
     "shell.execute_reply": "2025-05-20T23:22:16.580649Z"
    }
   },
   "outputs": [
    {
     "name": "stdout",
     "output_type": "stream",
     "text": [
      "📂 Reading existing data from: ../datasets/daily_bond_quotes.csv\n",
      "🗓 Existing data: 2015-05-19 to 2025-05-19\n",
      "✅ Found 101 tickers, ❌ Missing 46 tickers\n",
      "⏳ Fetching data using provider: fmp...\n",
      "Will fetch 46 missing tickers from 2015-05-19 to 2025-05-19\n",
      "Using FMP batch processing for 147 tickers\n",
      "Fetching history for 46 missing tickers...\n",
      "Processing attempt 1/2\n",
      "Fetching batch of 46 tickers...\n",
      "Retrieved data for 27 of 46 missing tickers\n",
      "⚠️ Column 'AGIH' missing 1 values (0.2%) in recent data\n",
      "⚠️ Column 'BMOPX' missing 503 values (100.0%) in recent data\n",
      "⚠️ Column 'CSHP' missing 293 values (58.3%) in recent data\n",
      "⚠️ Column 'ELQD' missing 1 values (0.2%) in recent data\n",
      "⚠️ Column 'IBCA' missing 464 values (92.2%) in recent data\n",
      "⚠️ Column 'IBDY' missing 25 values (5.0%) in recent data\n",
      "⚠️ Column 'IBDZ' missing 257 values (51.1%) in recent data\n",
      "⚠️ Column 'IBGA' missing 269 values (53.5%) in recent data\n",
      "⚠️ Column 'IBGB' missing 465 values (92.4%) in recent data\n",
      "⚠️ Column 'IBGL' missing 465 values (92.4%) in recent data\n",
      "⚠️ Column 'IBHJ' missing 25 values (5.0%) in recent data\n",
      "⚠️ Column 'IBIB' missing 83 values (16.5%) in recent data\n",
      "⚠️ Column 'IBIC' missing 83 values (16.5%) in recent data\n",
      "⚠️ Column 'IBID' missing 83 values (16.5%) in recent data\n",
      "⚠️ Column 'IBIE' missing 83 values (16.5%) in recent data\n",
      "⚠️ Column 'IBIF' missing 87 values (17.3%) in recent data\n",
      "⚠️ Column 'IBIG' missing 87 values (17.3%) in recent data\n",
      "⚠️ Column 'IBIH' missing 87 values (17.3%) in recent data\n",
      "⚠️ Column 'IBII' missing 87 values (17.3%) in recent data\n",
      "⚠️ Column 'IBIJ' missing 87 values (17.3%) in recent data\n",
      "⚠️ Column 'IBIK' missing 257 values (51.1%) in recent data\n",
      "⚠️ Column 'IBIL' missing 465 values (92.4%) in recent data\n",
      "⚠️ Column 'IBTO' missing 29 values (5.8%) in recent data\n",
      "⚠️ Column 'IBTP' missing 269 values (53.5%) in recent data\n",
      "⚠️ Column 'IBTQ' missing 465 values (92.4%) in recent data\n",
      "⚠️ Column 'LDRC' missing 374 values (74.4%) in recent data\n",
      "⚠️ Column 'LDRH' missing 374 values (74.4%) in recent data\n",
      "⚠️ Column 'LDRI' missing 373 values (74.2%) in recent data\n",
      "⚠️ Column 'LDRT' missing 373 values (74.2%) in recent data\n",
      "🔄 Fetching missing recent data for 29 tickers...\n",
      "Processing attempt 1/2\n",
      "Fetching batch of 29 tickers...\n",
      "✅ Updated missing recent data for 28 tickers\n",
      "⚠️ Removing 27 columns with < 20.0% data or < 5 values:\n",
      "   BMOPX (1 values, 0.04%), CSHP (210 values, 8.35%), IBCA (39 values, 1.55%), IBDY (478 values, 19.00%), IBDZ (246 values, 9.78%), IBGA (234 values, 9.30%), IBGB (38 values, 1.51%), IBGL (38 values, 1.51%), IBHJ (478 values, 19.00%), IBIB (420 values, 16.69%), ... and 17 more\n",
      "   Found 1 columns with fewer than 5 values!\n",
      "     - BMOPX: 1 values (0.040%)\n",
      "💾 Saved updated data to ../datasets/daily_bond_quotes.csv\n"
     ]
    },
    {
     "data": {
      "text/html": [
       "<div>\n",
       "<style scoped>\n",
       "    .dataframe tbody tr th:only-of-type {\n",
       "        vertical-align: middle;\n",
       "    }\n",
       "\n",
       "    .dataframe tbody tr th {\n",
       "        vertical-align: top;\n",
       "    }\n",
       "\n",
       "    .dataframe thead th {\n",
       "        text-align: right;\n",
       "    }\n",
       "</style>\n",
       "<table border=\"1\" class=\"dataframe\">\n",
       "  <thead>\n",
       "    <tr style=\"text-align: right;\">\n",
       "      <th></th>\n",
       "      <th>Date</th>\n",
       "      <th>AGG</th>\n",
       "      <th>AGIH</th>\n",
       "      <th>AGRH</th>\n",
       "      <th>AGZ</th>\n",
       "      <th>BEMB</th>\n",
       "      <th>BGRN</th>\n",
       "      <th>BMOIX</th>\n",
       "      <th>BYLD</th>\n",
       "      <th>CEMB</th>\n",
       "      <th>...</th>\n",
       "      <th>SUB</th>\n",
       "      <th>SUSB</th>\n",
       "      <th>SUSC</th>\n",
       "      <th>TFLO</th>\n",
       "      <th>TIP</th>\n",
       "      <th>TLH</th>\n",
       "      <th>TLT</th>\n",
       "      <th>TLTW</th>\n",
       "      <th>USHY</th>\n",
       "      <th>USIG</th>\n",
       "    </tr>\n",
       "  </thead>\n",
       "  <tbody>\n",
       "    <tr>\n",
       "      <th>0</th>\n",
       "      <td>2015-05-01</td>\n",
       "      <td>85.03</td>\n",
       "      <td>NaN</td>\n",
       "      <td>NaN</td>\n",
       "      <td>92.41</td>\n",
       "      <td>NaN</td>\n",
       "      <td>NaN</td>\n",
       "      <td>7.83</td>\n",
       "      <td>17.45</td>\n",
       "      <td>32.96</td>\n",
       "      <td>...</td>\n",
       "      <td>93.31</td>\n",
       "      <td>NaN</td>\n",
       "      <td>NaN</td>\n",
       "      <td>41.86</td>\n",
       "      <td>87.28</td>\n",
       "      <td>105.66</td>\n",
       "      <td>94.83</td>\n",
       "      <td>NaN</td>\n",
       "      <td>NaN</td>\n",
       "      <td>39.68</td>\n",
       "    </tr>\n",
       "    <tr>\n",
       "      <th>1</th>\n",
       "      <td>2015-06-01</td>\n",
       "      <td>84.11</td>\n",
       "      <td>NaN</td>\n",
       "      <td>NaN</td>\n",
       "      <td>92.06</td>\n",
       "      <td>NaN</td>\n",
       "      <td>NaN</td>\n",
       "      <td>7.75</td>\n",
       "      <td>17.23</td>\n",
       "      <td>32.12</td>\n",
       "      <td>...</td>\n",
       "      <td>93.44</td>\n",
       "      <td>NaN</td>\n",
       "      <td>NaN</td>\n",
       "      <td>41.83</td>\n",
       "      <td>86.39</td>\n",
       "      <td>103.55</td>\n",
       "      <td>90.97</td>\n",
       "      <td>NaN</td>\n",
       "      <td>NaN</td>\n",
       "      <td>39.09</td>\n",
       "    </tr>\n",
       "    <tr>\n",
       "      <th>2</th>\n",
       "      <td>2015-07-01</td>\n",
       "      <td>84.84</td>\n",
       "      <td>NaN</td>\n",
       "      <td>NaN</td>\n",
       "      <td>92.44</td>\n",
       "      <td>NaN</td>\n",
       "      <td>NaN</td>\n",
       "      <td>7.80</td>\n",
       "      <td>17.36</td>\n",
       "      <td>32.32</td>\n",
       "      <td>...</td>\n",
       "      <td>93.75</td>\n",
       "      <td>NaN</td>\n",
       "      <td>NaN</td>\n",
       "      <td>41.74</td>\n",
       "      <td>86.85</td>\n",
       "      <td>106.14</td>\n",
       "      <td>95.10</td>\n",
       "      <td>NaN</td>\n",
       "      <td>NaN</td>\n",
       "      <td>39.42</td>\n",
       "    </tr>\n",
       "    <tr>\n",
       "      <th>3</th>\n",
       "      <td>2015-08-01</td>\n",
       "      <td>84.55</td>\n",
       "      <td>NaN</td>\n",
       "      <td>NaN</td>\n",
       "      <td>92.57</td>\n",
       "      <td>NaN</td>\n",
       "      <td>NaN</td>\n",
       "      <td>7.79</td>\n",
       "      <td>17.27</td>\n",
       "      <td>31.66</td>\n",
       "      <td>...</td>\n",
       "      <td>93.52</td>\n",
       "      <td>NaN</td>\n",
       "      <td>NaN</td>\n",
       "      <td>41.72</td>\n",
       "      <td>86.03</td>\n",
       "      <td>105.57</td>\n",
       "      <td>94.44</td>\n",
       "      <td>NaN</td>\n",
       "      <td>NaN</td>\n",
       "      <td>39.02</td>\n",
       "    </tr>\n",
       "    <tr>\n",
       "      <th>4</th>\n",
       "      <td>2015-09-01</td>\n",
       "      <td>85.24</td>\n",
       "      <td>NaN</td>\n",
       "      <td>NaN</td>\n",
       "      <td>93.05</td>\n",
       "      <td>NaN</td>\n",
       "      <td>NaN</td>\n",
       "      <td>7.84</td>\n",
       "      <td>17.21</td>\n",
       "      <td>30.80</td>\n",
       "      <td>...</td>\n",
       "      <td>93.84</td>\n",
       "      <td>NaN</td>\n",
       "      <td>NaN</td>\n",
       "      <td>41.78</td>\n",
       "      <td>85.58</td>\n",
       "      <td>107.51</td>\n",
       "      <td>96.30</td>\n",
       "      <td>NaN</td>\n",
       "      <td>NaN</td>\n",
       "      <td>39.37</td>\n",
       "    </tr>\n",
       "  </tbody>\n",
       "</table>\n",
       "<p>5 rows × 102 columns</p>\n",
       "</div>"
      ],
      "text/plain": [
       "        Date    AGG  AGIH  AGRH    AGZ  BEMB  BGRN  BMOIX   BYLD   CEMB  ...  \\\n",
       "0 2015-05-01  85.03   NaN   NaN  92.41   NaN   NaN   7.83  17.45  32.96  ...   \n",
       "1 2015-06-01  84.11   NaN   NaN  92.06   NaN   NaN   7.75  17.23  32.12  ...   \n",
       "2 2015-07-01  84.84   NaN   NaN  92.44   NaN   NaN   7.80  17.36  32.32  ...   \n",
       "3 2015-08-01  84.55   NaN   NaN  92.57   NaN   NaN   7.79  17.27  31.66  ...   \n",
       "4 2015-09-01  85.24   NaN   NaN  93.05   NaN   NaN   7.84  17.21  30.80  ...   \n",
       "\n",
       "     SUB  SUSB  SUSC   TFLO    TIP     TLH    TLT  TLTW  USHY   USIG  \n",
       "0  93.31   NaN   NaN  41.86  87.28  105.66  94.83   NaN   NaN  39.68  \n",
       "1  93.44   NaN   NaN  41.83  86.39  103.55  90.97   NaN   NaN  39.09  \n",
       "2  93.75   NaN   NaN  41.74  86.85  106.14  95.10   NaN   NaN  39.42  \n",
       "3  93.52   NaN   NaN  41.72  86.03  105.57  94.44   NaN   NaN  39.02  \n",
       "4  93.84   NaN   NaN  41.78  85.58  107.51  96.30   NaN   NaN  39.37  \n",
       "\n",
       "[5 rows x 102 columns]"
      ]
     },
     "metadata": {},
     "output_type": "display_data"
    }
   ],
   "source": [
    "tickers_file = '../tickers_bond.txt'\n",
    "with open(tickers_file, 'r') as f:\n",
    "    tickers = [line.strip() for line in f if line.strip()]\n",
    "\n",
    "# Replace '.' with '-' for Yahoo Finance compatibility\n",
    "tickers = [t.replace('.', '-') for t in tickers]\n",
    "tickers = list(dict.fromkeys(tickers))  # Remove duplicates\n",
    "\n",
    "###########################################################\n",
    "# DAILY DATA\n",
    "###########################################################\n",
    "\n",
    "daily_output = '../datasets/daily_bond_quotes.csv'\n",
    "\n",
    "bonds_daily_df, failed_daily = fetch_price_history_openbb(\n",
    "    tickers, \n",
    "    start_date, \n",
    "    end_date,\n",
    "    data_file=daily_output,\n",
    "    interval='1d',                 # options: ['1d', '1w', '1M']\n",
    "    provider='fmp',                # options: ['fmp', 'yfinance']\n",
    "    row_threshold_pct=0.05,        # Filter out rows with fewer than 5% of columns containing values\n",
    "    column_threshold=0.2,          # Filter out columns with less than 20% of values\n",
    "    validate_recent_data=True,     # Enable recent data validation\n",
    "    recent_data_percentage=0.2     # Check the last 20% of rows\n",
    ")\n",
    "\n",
    "###########################################################\n",
    "# MONTHLY DATA\n",
    "###########################################################\n",
    "\n",
    "monthly_output = '../datasets/monthly_bond_quotes.csv'\n",
    "\n",
    "bonds_monthly_prices = (bonds_daily_df.set_index(pd.to_datetime(bonds_daily_df.pop('Date')))\n",
    "      if 'Date' in bonds_daily_df.columns else bonds_daily_df.copy())\n",
    "bonds_monthly_prices.index = pd.to_datetime(bonds_monthly_prices.index)              \n",
    "bonds_monthly_prices = (bonds_monthly_prices.resample('MS').last()\n",
    "   .reset_index()\n",
    "   .rename(columns={'index': 'Date'}))\n",
    "\n",
    "# Save to CSV\n",
    "bonds_monthly_prices.to_csv(monthly_output, index=False)\n",
    "\n",
    "display(bonds_monthly_prices.head())"
   ]
  },
  {
   "cell_type": "markdown",
   "id": "58fc1ac6",
   "metadata": {},
   "source": [
    "### Benchmarks"
   ]
  },
  {
   "cell_type": "code",
   "execution_count": 5,
   "id": "62310d56",
   "metadata": {
    "execution": {
     "iopub.execute_input": "2025-05-20T23:22:16.583129Z",
     "iopub.status.busy": "2025-05-20T23:22:16.582945Z",
     "iopub.status.idle": "2025-05-20T23:22:17.936219Z",
     "shell.execute_reply": "2025-05-20T23:22:17.935632Z"
    }
   },
   "outputs": [
    {
     "name": "stdout",
     "output_type": "stream",
     "text": [
      "📂 Reading existing data from: ../datasets/daily_benchmark_quotes.csv\n",
      "🗓 Existing data: 2015-05-19 to 2025-05-19\n",
      "✅ Found 506 tickers, ❌ Missing 0 tickers\n",
      "✅ Data is already up-to-date and complete\n",
      "⚠️ Column 'ESGG' missing 1 values (0.2%) in recent data\n",
      "⚠️ Column 'JDIV' missing 342 values (68.0%) in recent data\n",
      "⚠️ Column 'LKOR' missing 1 values (0.2%) in recent data\n",
      "⚠️ Column 'ONEO' missing 1 values (0.2%) in recent data\n",
      "🔄 Fetching missing recent data for 4 tickers...\n",
      "Processing attempt 1/2\n",
      "Fetching batch of 4 tickers...\n",
      "💾 Saved updated data with fixed recent values to ../datasets/daily_benchmark_quotes.csv\n",
      "✅ Updated missing recent data for 4 tickers\n"
     ]
    }
   ],
   "source": [
    "tickers_file = '../tickers_benchmark.txt'\n",
    "with open(tickers_file, 'r') as f:\n",
    "    tickers = [line.strip() for line in f if line.strip()]\n",
    "\n",
    "# Replace '.' with '-' for Yahoo Finance compatibility\n",
    "tickers = [t.replace('.', '-') for t in tickers]\n",
    "tickers = list(dict.fromkeys(tickers))  # Remove duplicates\n",
    "\n",
    "###########################################################\n",
    "# DAILY DATA\n",
    "###########################################################\n",
    "\n",
    "daily_output = '../datasets/daily_benchmark_quotes.csv'\n",
    "\n",
    "df_daily, df_daily_failed = fetch_price_history_openbb(\n",
    "    tickers, \n",
    "    start_date, \n",
    "    end_date,\n",
    "    data_file=daily_output,\n",
    "    interval='1d',                 # options: ['1d', '1w', '1M']\n",
    "    provider='fmp',                # options: ['fmp', 'yfinance']\n",
    "    row_threshold_pct=0.05,        # Filter out rows with fewer than 5% of columns containing values\n",
    "    column_threshold=0.2,          # Filter out columns with less than 20% of values\n",
    "    validate_recent_data=True,     # Enable recent data validation\n",
    "    recent_data_percentage=0.2     # Check the last 20% of rows\n",
    ")\n",
    "\n",
    "###########################################################\n",
    "# MONTHLY DATA\n",
    "###########################################################\n",
    "\n",
    "monthly_output = '../datasets/monthly_benchmark_quotes.csv'\n",
    "\n",
    "df = (df_daily.set_index(pd.to_datetime(df_daily.pop('Date')))\n",
    "      if 'Date' in df_daily.columns else df_daily.copy())\n",
    "df.index = pd.to_datetime(df.index)              \n",
    "(df.resample('MS').last()\n",
    "   .reset_index()\n",
    "   .to_csv(monthly_output, index=False))"
   ]
  },
  {
   "cell_type": "markdown",
   "id": "f96ad311",
   "metadata": {},
   "source": [
    "### Treasury Rates"
   ]
  },
  {
   "cell_type": "code",
   "execution_count": 6,
   "id": "d217effb",
   "metadata": {
    "execution": {
     "iopub.execute_input": "2025-05-20T23:22:17.938163Z",
     "iopub.status.busy": "2025-05-20T23:22:17.937713Z",
     "iopub.status.idle": "2025-05-20T23:22:17.953955Z",
     "shell.execute_reply": "2025-05-20T23:22:17.953432Z"
    }
   },
   "outputs": [
    {
     "name": "stdout",
     "output_type": "stream",
     "text": [
      "📂 Reading existing data from: ../datasets/daily_treasury_rates.csv\n",
      "🗓 Existing data: 2015-05-19 to 2025-05-19\n",
      "✅ Found 4 tickers, ❌ Missing 0 tickers\n",
      "✅ Data is already up-to-date and complete\n"
     ]
    }
   ],
   "source": [
    "tickers_file = '../tickers_treasury.txt'\n",
    "with open(tickers_file, 'r') as f:\n",
    "    tickers = [line.strip() for line in f if line.strip()]\n",
    "\n",
    "# Replace '.' with '-' for Yahoo Finance compatibility\n",
    "tickers = [t.replace('.', '-') for t in tickers]\n",
    "tickers = list(dict.fromkeys(tickers))  # Remove duplicates\n",
    "\n",
    "###########################################################\n",
    "# DAILY DATA\n",
    "###########################################################\n",
    "\n",
    "daily_output = '../datasets/daily_treasury_rates.csv'\n",
    "\n",
    "df_daily, df_daily_failed = fetch_price_history_openbb(\n",
    "    tickers, \n",
    "    start_date, \n",
    "    end_date,\n",
    "    data_file=daily_output,\n",
    "    interval='1d',                 # options: ['1d', '1w', '1M']\n",
    "    provider='fmp',                # options: ['fmp', 'yfinance']\n",
    "    row_threshold_pct=0.05,        # Filter out rows with fewer than 5% of columns containing values\n",
    "    column_threshold=0.2,          # Filter out columns with less than 20% of values\n",
    "    validate_recent_data=True,     # Enable recent data validation\n",
    "    recent_data_percentage=0.2     # Check the last 20% of rows\n",
    ")\n",
    "\n",
    "###########################################################\n",
    "# MONTHLY DATA\n",
    "###########################################################\n",
    "\n",
    "monthly_output = '../datasets/monthly_treasury_rates.csv'\n",
    "\n",
    "df = (df_daily.set_index(pd.to_datetime(df_daily.pop('Date')))\n",
    "      if 'Date' in df_daily.columns else df_daily.copy())\n",
    "df.index = pd.to_datetime(df.index)              \n",
    "(df.resample('MS').last()\n",
    "   .reset_index()\n",
    "   .to_csv(monthly_output, index=False))"
   ]
  },
  {
   "cell_type": "markdown",
   "id": "2c2c2018",
   "metadata": {},
   "source": [
    "### Sectors"
   ]
  },
  {
   "cell_type": "code",
   "execution_count": 7,
   "id": "0714d878",
   "metadata": {
    "execution": {
     "iopub.execute_input": "2025-05-20T23:22:17.955799Z",
     "iopub.status.busy": "2025-05-20T23:22:17.955362Z",
     "iopub.status.idle": "2025-05-20T23:22:17.958083Z",
     "shell.execute_reply": "2025-05-20T23:22:17.957573Z"
    }
   },
   "outputs": [],
   "source": [
    "sectors = [\n",
    "    'XLE',\n",
    "    'CLF',\n",
    "    'XLF',\n",
    "    'GDX'\n",
    "]"
   ]
  }
 ],
 "metadata": {
  "kernelspec": {
   "display_name": ".venv",
   "language": "python",
   "name": "python3"
  },
  "language_info": {
   "codemirror_mode": {
    "name": "ipython",
    "version": 3
   },
   "file_extension": ".py",
   "mimetype": "text/x-python",
   "name": "python",
   "nbconvert_exporter": "python",
   "pygments_lexer": "ipython3",
   "version": "3.12.3"
  }
 },
 "nbformat": 4,
 "nbformat_minor": 5
}
