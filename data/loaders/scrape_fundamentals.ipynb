{
 "cells": [
  {
   "cell_type": "markdown",
   "id": "8c508d9c",
   "metadata": {},
   "source": [
    "## Extract Fundamental Data from Yahoo Finance"
   ]
  },
  {
   "cell_type": "markdown",
   "id": "c32963f4",
   "metadata": {},
   "source": [
    "### Import Libraries"
   ]
  },
  {
   "cell_type": "code",
   "execution_count": 1,
   "id": "637fa693",
   "metadata": {
    "execution": {
     "iopub.execute_input": "2025-05-19T17:51:43.839112Z",
     "iopub.status.busy": "2025-05-19T17:51:43.838952Z",
     "iopub.status.idle": "2025-05-19T17:51:44.358969Z",
     "shell.execute_reply": "2025-05-19T17:51:44.358419Z"
    }
   },
   "outputs": [],
   "source": [
    "import sys\n",
    "import os\n",
    "current_dir = os.path.abspath(os.path.join(os.getcwd(), '../..', 'py'))\n",
    "sys.path.append(current_dir)\n",
    "from fetch_fundamentals import fetch_fundamental_data\n",
    "\n",
    "import nest_asyncio\n",
    "nest_asyncio.apply()\n",
    "\n",
    "from datetime import datetime, timedelta\n",
    "import pandas as pd\n",
    "from pandas.tseries.offsets import BDay\n",
    "import warnings\n",
    "warnings.filterwarnings(\"ignore\")\n",
    "\n",
    "# Time Range\n",
    "end_date = datetime.today()"
   ]
  },
  {
   "cell_type": "markdown",
   "id": "a32027f8",
   "metadata": {},
   "source": [
    "### Stocks"
   ]
  },
  {
   "cell_type": "code",
   "execution_count": 2,
   "id": "b81532ff",
   "metadata": {
    "execution": {
     "iopub.execute_input": "2025-05-19T17:51:44.361082Z",
     "iopub.status.busy": "2025-05-19T17:51:44.360634Z",
     "iopub.status.idle": "2025-05-19T17:51:44.382969Z",
     "shell.execute_reply": "2025-05-19T17:51:44.382442Z"
    }
   },
   "outputs": [
    {
     "name": "stdout",
     "output_type": "stream",
     "text": [
      "All tickers already have data for 2025-05-19. Skipping download.\n",
      "Using existing data from ../datasets/fundamentals_stock.csv\n"
     ]
    }
   ],
   "source": [
    "tickers_file = '../tickers_sp_500.txt'\n",
    "with open(tickers_file, 'r') as f:\n",
    "    tickers = [line.strip() for line in f if line.strip()]\n",
    "\n",
    "# Replace '.' with '-' for Yahoo Finance compatibility\n",
    "tickers = [t.replace('.', '-') for t in tickers]\n",
    "tickers = list(dict.fromkeys(tickers))  # Remove duplicates\n",
    "\n",
    "data_output = '../datasets/fundamentals_stock.csv'\n",
    "\n",
    "# Get fundamental data\n",
    "fundamentals_df = fetch_fundamental_data(\n",
    "    tickers, \n",
    "    date=end_date, \n",
    "    data_file=data_output\n",
    ")"
   ]
  },
  {
   "cell_type": "markdown",
   "id": "58fc1ac6",
   "metadata": {},
   "source": [
    "### Benchmark"
   ]
  },
  {
   "cell_type": "code",
   "execution_count": 3,
   "id": "b569516d",
   "metadata": {
    "execution": {
     "iopub.execute_input": "2025-05-19T17:51:44.384597Z",
     "iopub.status.busy": "2025-05-19T17:51:44.384418Z",
     "iopub.status.idle": "2025-05-19T17:51:49.984220Z",
     "shell.execute_reply": "2025-05-19T17:51:49.983636Z"
    }
   },
   "outputs": [
    {
     "name": "stdout",
     "output_type": "stream",
     "text": [
      "Found 71 tickers with empty sector data that will be updated:\n",
      "- AGZ (empty sector data)\n",
      "- ATMP (empty sector data)\n",
      "- BAB (empty sector data)\n",
      "- BIV (empty sector data)\n",
      "- BSJP (empty sector data)\n",
      "- CMBS (empty sector data)\n",
      "- CORP (empty sector data)\n",
      "- FCAL (empty sector data)\n",
      "- FLMI (empty sector data)\n",
      "- FLOT (empty sector data)\n",
      "- FLRN (empty sector data)\n",
      "- FLTR (empty sector data)\n",
      "- FMB (empty sector data)\n",
      "- FMHI (empty sector data)\n",
      "- FPEI (empty sector data)\n",
      "- FSMB (empty sector data)\n",
      "- FTGC (empty sector data)\n",
      "- FTSD (empty sector data)\n",
      "- GLD (empty sector data)\n",
      "- GOVI (empty sector data)\n",
      "- HMOP (empty sector data)\n",
      "- HTAB (empty sector data)\n",
      "- HYHG (empty sector data)\n",
      "- HYUP (empty sector data)\n",
      "- IAU (empty sector data)\n",
      "- IBD (empty sector data)\n",
      "- IEF (empty sector data)\n",
      "- IEI (empty sector data)\n",
      "- IGBH (empty sector data)\n",
      "- IGEB (empty sector data)\n",
      "- IGHG (empty sector data)\n",
      "- IGIB (empty sector data)\n",
      "- IGSB (empty sector data)\n",
      "- JMBS (empty sector data)\n",
      "- JMST (empty sector data)\n",
      "- KORP (empty sector data)\n",
      "- LGOV (empty sector data)\n",
      "- LKOR (empty sector data)\n",
      "- LMBS (empty sector data)\n",
      "- LQDH (empty sector data)\n",
      "- MBSD (empty sector data)\n",
      "- MEAR (empty sector data)\n",
      "- MMIT (empty sector data)\n",
      "- PULS (empty sector data)\n",
      "- SCHO (empty sector data)\n",
      "- SCHP (empty sector data)\n",
      "- SCHR (empty sector data)\n",
      "- SDCI (empty sector data)\n",
      "- SHYL (empty sector data)\n",
      "- SKOR (empty sector data)\n",
      "- SLQD (empty sector data)\n",
      "- SMMU (empty sector data)\n",
      "- SPIB (empty sector data)\n",
      "- SPLB (empty sector data)\n",
      "- SPSB (empty sector data)\n",
      "- SPTI (empty sector data)\n",
      "- SPTS (empty sector data)\n",
      "- STIP (empty sector data)\n",
      "- TAXF (empty sector data)\n",
      "- TDTF (empty sector data)\n",
      "- TLH (empty sector data)\n",
      "- USCI (empty sector data)\n",
      "- USTB (empty sector data)\n",
      "- VCIT (empty sector data)\n",
      "- VCLT (empty sector data)\n",
      "- VCSH (empty sector data)\n",
      "- VGIT (empty sector data)\n",
      "- VGSH (empty sector data)\n",
      "- VRIG (empty sector data)\n",
      "- VTIP (empty sector data)\n",
      "- WINC (empty sector data)\n",
      "Found 2 outdated or missing tickers:\n",
      "- LRGF (last date: 2025-05-13)\n",
      "- VUG (last date: 2025-05-13)\n",
      "Will update the 73 ticker(s)\n",
      "Fetching data for 73 ticker(s)\n",
      "Processing batch 1/1 (73 tickers)\n"
     ]
    },
    {
     "name": "stderr",
     "output_type": "stream",
     "text": [
      "100%|██████████| 73/73 [00:04<00:00, 15.62it/s]\n"
     ]
    },
    {
     "name": "stdout",
     "output_type": "stream",
     "text": [
      "Updated data for 73 ticker(s)\n"
     ]
    }
   ],
   "source": [
    "tickers_file = '../tickers_benchmark.txt'\n",
    "with open(tickers_file, 'r') as f:\n",
    "    tickers = [line.strip() for line in f if line.strip()]\n",
    "\n",
    "# Replace '.' with '-' for Yahoo Finance compatibility\n",
    "tickers = [t.replace('.', '-') for t in tickers]\n",
    "tickers = list(dict.fromkeys(tickers))  # Remove duplicates\n",
    "\n",
    "data_output = '../datasets/fundamentals_benchmark.csv'\n",
    "\n",
    "# Get fundamental data with Sectors\n",
    "fundamentals_df = fetch_fundamental_data(\n",
    "    tickers, \n",
    "    date=end_date, \n",
    "    data_file=data_output,\n",
    "    fetch_sectors=True\n",
    ")"
   ]
  },
  {
   "cell_type": "markdown",
   "id": "2c2c2018",
   "metadata": {},
   "source": [
    "### Sectors"
   ]
  },
  {
   "cell_type": "code",
   "execution_count": 4,
   "id": "0714d878",
   "metadata": {
    "execution": {
     "iopub.execute_input": "2025-05-19T17:51:49.985978Z",
     "iopub.status.busy": "2025-05-19T17:51:49.985799Z",
     "iopub.status.idle": "2025-05-19T17:51:49.988245Z",
     "shell.execute_reply": "2025-05-19T17:51:49.987824Z"
    }
   },
   "outputs": [],
   "source": [
    "sectors = [\n",
    "    'XLE',\n",
    "    'CLF',\n",
    "    'XLF',\n",
    "    'GDX'\n",
    "]"
   ]
  }
 ],
 "metadata": {
  "kernelspec": {
   "display_name": ".venv",
   "language": "python",
   "name": "python3"
  },
  "language_info": {
   "codemirror_mode": {
    "name": "ipython",
    "version": 3
   },
   "file_extension": ".py",
   "mimetype": "text/x-python",
   "name": "python",
   "nbconvert_exporter": "python",
   "pygments_lexer": "ipython3",
   "version": "3.12.3"
  }
 },
 "nbformat": 4,
 "nbformat_minor": 5
}
